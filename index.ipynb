{
 "cells": [
  {
   "cell_type": "code",
   "execution_count": 1,
   "id": "a8baf6ab-3696-4066-8606-aa4a6071c1b4",
   "metadata": {},
   "outputs": [],
   "source": [
    "import numpy as np\n",
    "import matplotlib.pyplot as plt\n",
    "import os , shutil"
   ]
  },
  {
   "cell_type": "markdown",
   "id": "4303198b-8200-43a6-8439-eafc7992f332",
   "metadata": {},
   "source": [
    "##### Image Lenghts refer to `preparation.ipynb` in this directory\n",
    "\n",
    "Test folder contains images 190 images with fire and 190 images images with No fire.\n",
    "\r",
    "Train folder contains images 610 images with fire and 610 images images with No fire.\n",
    "\n",
    "Validation folder contains images 150 images with fire and 150 images images with No fire. images"
   ]
  },
  {
   "cell_type": "code",
   "execution_count": 2,
   "id": "449117d5-81cb-46ba-84d2-9aa6c1c72246",
   "metadata": {},
   "outputs": [],
   "source": [
    "test_folder = os.path.join('data' , 'test')\n",
    "train_folder = os.path.join('data', 'train')\n",
    "val_folder = os.path.join('data','validation')\n"
   ]
  },
  {
   "cell_type": "code",
   "execution_count": 3,
   "id": "ddc1c6f8-f975-4605-9d2f-6daf6054eb6a",
   "metadata": {},
   "outputs": [],
   "source": [
    "import time\n",
    "import scipy\n",
    "from PIL import Image\n",
    "from scipy import ndimage\n",
    "from tensorflow.keras.preprocessing.image import ImageDataGenerator, array_to_img, img_to_array, load_img\n",
    "\n",
    "np.random.seed(123)"
   ]
  },
  {
   "cell_type": "code",
   "execution_count": 4,
   "id": "81d3d2ad-6f44-4e21-ae86-596c35aeb731",
   "metadata": {},
   "outputs": [
    {
     "name": "stdout",
     "output_type": "stream",
     "text": [
      "Found 1220 images belonging to 2 classes.\n",
      "Found 380 images belonging to 2 classes.\n",
      "Found 300 images belonging to 2 classes.\n"
     ]
    }
   ],
   "source": [
    "train_generator = ImageDataGenerator(rescale=1./255).flow_from_directory(\n",
    "    train_folder,\n",
    "    target_size=(64,64),\n",
    "    batch_size=1220\n",
    "    )\n",
    "\n",
    "test_generator = ImageDataGenerator(rescale=1./255).flow_from_directory(\n",
    "    test_folder,\n",
    "    target_size=(64,64),\n",
    "    batch_size=380\n",
    ")\n",
    "\n",
    "val_generator = ImageDataGenerator(rescale=1./255).flow_from_directory(\n",
    "    val_folder,\n",
    "    target_size=(64,64),\n",
    "    batch_size=300\n",
    ")"
   ]
  },
  {
   "cell_type": "code",
   "execution_count": 5,
   "id": "2bd87095-8af4-40d3-82f3-b761993aeb6e",
   "metadata": {},
   "outputs": [],
   "source": [
    "train_images , train_labels = next(train_generator)\n",
    "test_images , test_labels = next(test_generator)\n",
    "val_images , val_labels = next(val_generator)"
   ]
  },
  {
   "cell_type": "code",
   "execution_count": 6,
   "id": "be42baa1-dc34-44ee-8dad-e0d99b862902",
   "metadata": {},
   "outputs": [
    {
     "name": "stdout",
     "output_type": "stream",
     "text": [
      "(1220, 64, 64, 3) (1220, 2)\n",
      "(380, 64, 64, 3) (380, 2)\n",
      "(300, 64, 64, 3) (300, 2)\n"
     ]
    }
   ],
   "source": [
    "print(train_images.shape , train_labels.shape)\n",
    "print(test_images.shape , test_labels.shape)\n",
    "print(val_images.shape , val_labels.shape)"
   ]
  },
  {
   "cell_type": "code",
   "execution_count": 7,
   "id": "d0eeb191-2787-4f90-a7a5-bad0e0bf03f5",
   "metadata": {},
   "outputs": [
    {
     "name": "stdout",
     "output_type": "stream",
     "text": [
      "train shape (1220, 12288) \n",
      "test shape (380, 12288) \n",
      "val shape (300, 12288)\n"
     ]
    }
   ],
   "source": [
    "train_img = train_images.reshape(train_images.shape[0], -1)\n",
    "test_img = test_images.reshape(test_images.shape[0], -1)\n",
    "val_img = val_images.reshape(val_images.shape[0], -1)\n",
    "\n",
    "print(f'train shape {train_img.shape} \\ntest shape {test_img.shape} \\nval shape {val_img.shape}')"
   ]
  },
  {
   "cell_type": "code",
   "execution_count": 8,
   "id": "a373c69b-cea8-4d83-9bd2-7b58affcfe14",
   "metadata": {},
   "outputs": [
    {
     "name": "stdout",
     "output_type": "stream",
     "text": [
      "train shape (1220, 1) \n",
      "test shape (380, 1) \n",
      "val shape (300, 1)\n"
     ]
    }
   ],
   "source": [
    "train_y = np.reshape(train_labels[:,0] , (1220,1))\n",
    "test_y = np.reshape(test_labels[:,0] , (380,1))\n",
    "val_y = np.reshape(val_labels[:,0] , (300,1))\n",
    "\n",
    "print(f'train shape {train_y.shape} \\ntest shape {test_y.shape} \\nval shape {val_y.shape}')"
   ]
  },
  {
   "cell_type": "code",
   "execution_count": 9,
   "id": "c5a35afd-f70e-4df6-aa29-ee048d4aeaa1",
   "metadata": {},
   "outputs": [],
   "source": [
    "from tensorflow.keras import layers , models\n",
    "from tensorflow.keras.regularizers import l1,l2\n",
    "from tensorflow.keras.optimizers import Adam"
   ]
  },
  {
   "cell_type": "code",
   "execution_count": 10,
   "id": "0c7e7867-3dcb-47b8-84ea-a14426f1dd6f",
   "metadata": {},
   "outputs": [],
   "source": [
    "input_shape = (12288,)\n",
    "model = models.Sequential()\n",
    "\n",
    "model.add(layers.Dense(150,activation='relu',input_shape=input_shape))\n",
    "model.add(layers.Dense(100,activation='relu'))\n",
    "model.add(layers.Dense(50,activation='relu'))\n",
    "model.add(layers.Dense(1,activation='sigmoid'))\n"
   ]
  },
  {
   "cell_type": "code",
   "execution_count": 11,
   "id": "14c9f0dc-a168-4ae5-a8ec-bc00d21588a9",
   "metadata": {},
   "outputs": [
    {
     "name": "stdout",
     "output_type": "stream",
     "text": [
      "Epoch 1/150\n",
      "5/5 [==============================] - 0s 54ms/step - loss: 1.1258 - acc: 0.5910 - val_loss: 0.5744 - val_acc: 0.7400\n",
      "Epoch 2/150\n",
      "5/5 [==============================] - 0s 21ms/step - loss: 0.4151 - acc: 0.7926 - val_loss: 0.3946 - val_acc: 0.8667\n",
      "Epoch 3/150\n",
      "5/5 [==============================] - 0s 21ms/step - loss: 0.3230 - acc: 0.8574 - val_loss: 0.2970 - val_acc: 0.8900\n",
      "Epoch 4/150\n",
      "5/5 [==============================] - 0s 20ms/step - loss: 0.2749 - acc: 0.8893 - val_loss: 0.2767 - val_acc: 0.8867\n",
      "Epoch 5/150\n",
      "5/5 [==============================] - 0s 21ms/step - loss: 0.2404 - acc: 0.9049 - val_loss: 0.2725 - val_acc: 0.8733\n",
      "Epoch 6/150\n",
      "5/5 [==============================] - 0s 21ms/step - loss: 0.2221 - acc: 0.9107 - val_loss: 0.2545 - val_acc: 0.8933\n",
      "Epoch 7/150\n",
      "5/5 [==============================] - 0s 21ms/step - loss: 0.2085 - acc: 0.9180 - val_loss: 0.2285 - val_acc: 0.9133\n",
      "Epoch 8/150\n",
      "5/5 [==============================] - 0s 20ms/step - loss: 0.1803 - acc: 0.9295 - val_loss: 0.2350 - val_acc: 0.9100\n",
      "Epoch 9/150\n",
      "5/5 [==============================] - 0s 21ms/step - loss: 0.1764 - acc: 0.9295 - val_loss: 0.2308 - val_acc: 0.9100\n",
      "Epoch 10/150\n",
      "5/5 [==============================] - 0s 21ms/step - loss: 0.1636 - acc: 0.9393 - val_loss: 0.2023 - val_acc: 0.9100\n",
      "Epoch 11/150\n",
      "5/5 [==============================] - 0s 21ms/step - loss: 0.1399 - acc: 0.9525 - val_loss: 0.1941 - val_acc: 0.9233\n",
      "Epoch 12/150\n",
      "5/5 [==============================] - 0s 21ms/step - loss: 0.1385 - acc: 0.9541 - val_loss: 0.2685 - val_acc: 0.8967\n",
      "Epoch 13/150\n",
      "5/5 [==============================] - 0s 21ms/step - loss: 0.1484 - acc: 0.9484 - val_loss: 0.3158 - val_acc: 0.8933\n",
      "Epoch 14/150\n",
      "5/5 [==============================] - 0s 20ms/step - loss: 0.1706 - acc: 0.9434 - val_loss: 0.2312 - val_acc: 0.9100\n",
      "Epoch 15/150\n",
      "5/5 [==============================] - 0s 21ms/step - loss: 0.1380 - acc: 0.9516 - val_loss: 0.1960 - val_acc: 0.9200\n",
      "Epoch 16/150\n",
      "5/5 [==============================] - 0s 21ms/step - loss: 0.1216 - acc: 0.9623 - val_loss: 0.1934 - val_acc: 0.9200\n",
      "Epoch 17/150\n",
      "5/5 [==============================] - 0s 21ms/step - loss: 0.1253 - acc: 0.9639 - val_loss: 0.1895 - val_acc: 0.9267\n",
      "Epoch 18/150\n",
      "5/5 [==============================] - 0s 21ms/step - loss: 0.1287 - acc: 0.9541 - val_loss: 0.1896 - val_acc: 0.9367\n",
      "Epoch 19/150\n",
      "5/5 [==============================] - 0s 21ms/step - loss: 0.1094 - acc: 0.9639 - val_loss: 0.1932 - val_acc: 0.9367\n",
      "Epoch 20/150\n",
      "5/5 [==============================] - 0s 21ms/step - loss: 0.0947 - acc: 0.9705 - val_loss: 0.1863 - val_acc: 0.9267\n",
      "Epoch 21/150\n",
      "5/5 [==============================] - 0s 21ms/step - loss: 0.0868 - acc: 0.9721 - val_loss: 0.1960 - val_acc: 0.9367\n",
      "Epoch 22/150\n",
      "5/5 [==============================] - 0s 21ms/step - loss: 0.0904 - acc: 0.9697 - val_loss: 0.1897 - val_acc: 0.9267\n",
      "Epoch 23/150\n",
      "5/5 [==============================] - 0s 21ms/step - loss: 0.0817 - acc: 0.9762 - val_loss: 0.1978 - val_acc: 0.9233\n",
      "Epoch 24/150\n",
      "5/5 [==============================] - 0s 20ms/step - loss: 0.0788 - acc: 0.9795 - val_loss: 0.1958 - val_acc: 0.9267\n",
      "Epoch 25/150\n",
      "5/5 [==============================] - 0s 20ms/step - loss: 0.0727 - acc: 0.9820 - val_loss: 0.2186 - val_acc: 0.9200\n",
      "Epoch 26/150\n",
      "5/5 [==============================] - 0s 22ms/step - loss: 0.0770 - acc: 0.9762 - val_loss: 0.2322 - val_acc: 0.9167\n",
      "Epoch 27/150\n",
      "5/5 [==============================] - 0s 23ms/step - loss: 0.0749 - acc: 0.9795 - val_loss: 0.2007 - val_acc: 0.9367\n",
      "Epoch 28/150\n",
      "5/5 [==============================] - 0s 21ms/step - loss: 0.0642 - acc: 0.9820 - val_loss: 0.1964 - val_acc: 0.9367\n",
      "Epoch 29/150\n",
      "5/5 [==============================] - 0s 24ms/step - loss: 0.0592 - acc: 0.9893 - val_loss: 0.1914 - val_acc: 0.9400\n",
      "Epoch 30/150\n",
      "5/5 [==============================] - 0s 24ms/step - loss: 0.0543 - acc: 0.9869 - val_loss: 0.1927 - val_acc: 0.9400\n",
      "Epoch 31/150\n",
      "5/5 [==============================] - 0s 23ms/step - loss: 0.0480 - acc: 0.9902 - val_loss: 0.1987 - val_acc: 0.9300\n",
      "Epoch 32/150\n",
      "5/5 [==============================] - 0s 21ms/step - loss: 0.0480 - acc: 0.9893 - val_loss: 0.2137 - val_acc: 0.9300\n",
      "Epoch 33/150\n",
      "5/5 [==============================] - 0s 24ms/step - loss: 0.0517 - acc: 0.9869 - val_loss: 0.2229 - val_acc: 0.9233\n",
      "Epoch 34/150\n",
      "5/5 [==============================] - 0s 24ms/step - loss: 0.0485 - acc: 0.9910 - val_loss: 0.1971 - val_acc: 0.9467\n",
      "Epoch 35/150\n",
      "5/5 [==============================] - 0s 21ms/step - loss: 0.0388 - acc: 0.9943 - val_loss: 0.2143 - val_acc: 0.9300\n",
      "Epoch 36/150\n",
      "5/5 [==============================] - 0s 21ms/step - loss: 0.0414 - acc: 0.9910 - val_loss: 0.2493 - val_acc: 0.9200\n",
      "Epoch 37/150\n",
      "5/5 [==============================] - 0s 21ms/step - loss: 0.0752 - acc: 0.9738 - val_loss: 0.3972 - val_acc: 0.8933\n",
      "Epoch 38/150\n",
      "5/5 [==============================] - 0s 21ms/step - loss: 0.1714 - acc: 0.9303 - val_loss: 0.7452 - val_acc: 0.8400\n",
      "Epoch 39/150\n",
      "5/5 [==============================] - 0s 21ms/step - loss: 0.2475 - acc: 0.9123 - val_loss: 0.4245 - val_acc: 0.8800\n",
      "Epoch 40/150\n",
      "5/5 [==============================] - 0s 21ms/step - loss: 0.1288 - acc: 0.9549 - val_loss: 0.3111 - val_acc: 0.9033\n",
      "Epoch 41/150\n",
      "5/5 [==============================] - 0s 21ms/step - loss: 0.1096 - acc: 0.9656 - val_loss: 0.2192 - val_acc: 0.9367\n",
      "Epoch 42/150\n",
      "5/5 [==============================] - 0s 21ms/step - loss: 0.0901 - acc: 0.9689 - val_loss: 0.3227 - val_acc: 0.8900\n",
      "Epoch 43/150\n",
      "5/5 [==============================] - 0s 21ms/step - loss: 0.0959 - acc: 0.9639 - val_loss: 0.2757 - val_acc: 0.9100\n",
      "Epoch 44/150\n",
      "5/5 [==============================] - 0s 21ms/step - loss: 0.0654 - acc: 0.9820 - val_loss: 0.2332 - val_acc: 0.9333\n",
      "Epoch 45/150\n",
      "5/5 [==============================] - 0s 21ms/step - loss: 0.0586 - acc: 0.9795 - val_loss: 0.2382 - val_acc: 0.9100\n",
      "Epoch 46/150\n",
      "5/5 [==============================] - 0s 21ms/step - loss: 0.0508 - acc: 0.9902 - val_loss: 0.2081 - val_acc: 0.9400\n",
      "Epoch 47/150\n",
      "5/5 [==============================] - 0s 21ms/step - loss: 0.0384 - acc: 0.9926 - val_loss: 0.2440 - val_acc: 0.9267\n",
      "Epoch 48/150\n",
      "5/5 [==============================] - 0s 21ms/step - loss: 0.0357 - acc: 0.9893 - val_loss: 0.2353 - val_acc: 0.9167\n",
      "Epoch 49/150\n",
      "5/5 [==============================] - 0s 21ms/step - loss: 0.0371 - acc: 0.9926 - val_loss: 0.2076 - val_acc: 0.9433\n",
      "Epoch 50/150\n",
      "5/5 [==============================] - 0s 24ms/step - loss: 0.0372 - acc: 0.9934 - val_loss: 0.2856 - val_acc: 0.9167\n",
      "Epoch 51/150\n",
      "5/5 [==============================] - 0s 40ms/step - loss: 0.0385 - acc: 0.9893 - val_loss: 0.2359 - val_acc: 0.9333\n",
      "Epoch 52/150\n",
      "5/5 [==============================] - 0s 35ms/step - loss: 0.0350 - acc: 0.9910 - val_loss: 0.2205 - val_acc: 0.9267\n",
      "Epoch 53/150\n",
      "5/5 [==============================] - 0s 29ms/step - loss: 0.0268 - acc: 0.9959 - val_loss: 0.2193 - val_acc: 0.9367\n",
      "Epoch 54/150\n",
      "5/5 [==============================] - 0s 21ms/step - loss: 0.0246 - acc: 0.9959 - val_loss: 0.2341 - val_acc: 0.9300\n",
      "Epoch 55/150\n",
      "5/5 [==============================] - 0s 21ms/step - loss: 0.0191 - acc: 0.9975 - val_loss: 0.2249 - val_acc: 0.9400\n",
      "Epoch 56/150\n",
      "5/5 [==============================] - 0s 21ms/step - loss: 0.0173 - acc: 0.9975 - val_loss: 0.2264 - val_acc: 0.9367\n",
      "Epoch 57/150\n",
      "5/5 [==============================] - 0s 21ms/step - loss: 0.0161 - acc: 0.9975 - val_loss: 0.2318 - val_acc: 0.9367\n",
      "Epoch 58/150\n",
      "5/5 [==============================] - 0s 20ms/step - loss: 0.0147 - acc: 0.9975 - val_loss: 0.2296 - val_acc: 0.9400\n",
      "Epoch 59/150\n",
      "5/5 [==============================] - 0s 24ms/step - loss: 0.0132 - acc: 0.9975 - val_loss: 0.2391 - val_acc: 0.9333\n",
      "Epoch 60/150\n",
      "5/5 [==============================] - 0s 21ms/step - loss: 0.0131 - acc: 0.9975 - val_loss: 0.2376 - val_acc: 0.9400\n",
      "Epoch 61/150\n",
      "5/5 [==============================] - 0s 23ms/step - loss: 0.0114 - acc: 0.9984 - val_loss: 0.2386 - val_acc: 0.9367\n",
      "Epoch 62/150\n",
      "5/5 [==============================] - 0s 23ms/step - loss: 0.0105 - acc: 0.9984 - val_loss: 0.2371 - val_acc: 0.9400\n",
      "Epoch 63/150\n",
      "5/5 [==============================] - 0s 21ms/step - loss: 0.0100 - acc: 0.9992 - val_loss: 0.2448 - val_acc: 0.9367\n",
      "Epoch 64/150\n",
      "5/5 [==============================] - 0s 21ms/step - loss: 0.0086 - acc: 0.9992 - val_loss: 0.2515 - val_acc: 0.9367\n",
      "Epoch 65/150\n",
      "5/5 [==============================] - 0s 21ms/step - loss: 0.0079 - acc: 1.0000 - val_loss: 0.2511 - val_acc: 0.9367\n",
      "Epoch 66/150\n",
      "5/5 [==============================] - 0s 20ms/step - loss: 0.0075 - acc: 1.0000 - val_loss: 0.2600 - val_acc: 0.9300\n",
      "Epoch 67/150\n",
      "5/5 [==============================] - 0s 20ms/step - loss: 0.0075 - acc: 1.0000 - val_loss: 0.2551 - val_acc: 0.9400\n",
      "Epoch 68/150\n",
      "5/5 [==============================] - 0s 21ms/step - loss: 0.0071 - acc: 1.0000 - val_loss: 0.2634 - val_acc: 0.9367\n",
      "Epoch 69/150\n",
      "5/5 [==============================] - 0s 20ms/step - loss: 0.0067 - acc: 1.0000 - val_loss: 0.2818 - val_acc: 0.9300\n",
      "Epoch 70/150\n",
      "5/5 [==============================] - 0s 21ms/step - loss: 0.0060 - acc: 1.0000 - val_loss: 0.2683 - val_acc: 0.9367\n",
      "Epoch 71/150\n",
      "5/5 [==============================] - 0s 21ms/step - loss: 0.0056 - acc: 1.0000 - val_loss: 0.2860 - val_acc: 0.9267\n",
      "Epoch 72/150\n",
      "5/5 [==============================] - 0s 21ms/step - loss: 0.0054 - acc: 1.0000 - val_loss: 0.2781 - val_acc: 0.9367\n",
      "Epoch 73/150\n",
      "5/5 [==============================] - 0s 21ms/step - loss: 0.0045 - acc: 1.0000 - val_loss: 0.2839 - val_acc: 0.9367\n",
      "Epoch 74/150\n",
      "5/5 [==============================] - 0s 21ms/step - loss: 0.0041 - acc: 1.0000 - val_loss: 0.2755 - val_acc: 0.9333\n",
      "Epoch 75/150\n",
      "5/5 [==============================] - 0s 20ms/step - loss: 0.0038 - acc: 1.0000 - val_loss: 0.2797 - val_acc: 0.9333\n",
      "Epoch 76/150\n",
      "5/5 [==============================] - 0s 21ms/step - loss: 0.0035 - acc: 1.0000 - val_loss: 0.2841 - val_acc: 0.9367\n",
      "Epoch 77/150\n",
      "5/5 [==============================] - 0s 21ms/step - loss: 0.0033 - acc: 1.0000 - val_loss: 0.2898 - val_acc: 0.9367\n",
      "Epoch 78/150\n",
      "5/5 [==============================] - 0s 21ms/step - loss: 0.0031 - acc: 1.0000 - val_loss: 0.2885 - val_acc: 0.9333\n",
      "Epoch 79/150\n",
      "5/5 [==============================] - 0s 21ms/step - loss: 0.0032 - acc: 1.0000 - val_loss: 0.2979 - val_acc: 0.9367\n",
      "Epoch 80/150\n",
      "5/5 [==============================] - 0s 21ms/step - loss: 0.0030 - acc: 1.0000 - val_loss: 0.2981 - val_acc: 0.9333\n",
      "Epoch 81/150\n",
      "5/5 [==============================] - 0s 21ms/step - loss: 0.0028 - acc: 1.0000 - val_loss: 0.3000 - val_acc: 0.9333\n",
      "Epoch 82/150\n",
      "5/5 [==============================] - 0s 20ms/step - loss: 0.0025 - acc: 1.0000 - val_loss: 0.3023 - val_acc: 0.9333\n",
      "Epoch 83/150\n",
      "5/5 [==============================] - 0s 20ms/step - loss: 0.0023 - acc: 1.0000 - val_loss: 0.3048 - val_acc: 0.9333\n",
      "Epoch 84/150\n",
      "5/5 [==============================] - 0s 21ms/step - loss: 0.0021 - acc: 1.0000 - val_loss: 0.3130 - val_acc: 0.9333\n",
      "Epoch 85/150\n",
      "5/5 [==============================] - 0s 20ms/step - loss: 0.0019 - acc: 1.0000 - val_loss: 0.3147 - val_acc: 0.9333\n",
      "Epoch 86/150\n",
      "5/5 [==============================] - 0s 20ms/step - loss: 0.0018 - acc: 1.0000 - val_loss: 0.3170 - val_acc: 0.9333\n",
      "Epoch 87/150\n",
      "5/5 [==============================] - 0s 20ms/step - loss: 0.0017 - acc: 1.0000 - val_loss: 0.3206 - val_acc: 0.9333\n",
      "Epoch 88/150\n",
      "5/5 [==============================] - 0s 21ms/step - loss: 0.0016 - acc: 1.0000 - val_loss: 0.3263 - val_acc: 0.9333\n",
      "Epoch 89/150\n",
      "5/5 [==============================] - 0s 20ms/step - loss: 0.0015 - acc: 1.0000 - val_loss: 0.3284 - val_acc: 0.9333\n",
      "Epoch 90/150\n",
      "5/5 [==============================] - 0s 20ms/step - loss: 0.0014 - acc: 1.0000 - val_loss: 0.3325 - val_acc: 0.9333\n",
      "Epoch 91/150\n",
      "5/5 [==============================] - 0s 20ms/step - loss: 0.0013 - acc: 1.0000 - val_loss: 0.3412 - val_acc: 0.9333\n",
      "Epoch 92/150\n",
      "5/5 [==============================] - 0s 20ms/step - loss: 0.0013 - acc: 1.0000 - val_loss: 0.3453 - val_acc: 0.9333\n",
      "Epoch 93/150\n",
      "5/5 [==============================] - 0s 20ms/step - loss: 0.0012 - acc: 1.0000 - val_loss: 0.3466 - val_acc: 0.9367\n",
      "Epoch 94/150\n",
      "5/5 [==============================] - 0s 20ms/step - loss: 0.0011 - acc: 1.0000 - val_loss: 0.3519 - val_acc: 0.9300\n",
      "Epoch 95/150\n",
      "5/5 [==============================] - 0s 20ms/step - loss: 9.9909e-04 - acc: 1.0000 - val_loss: 0.3527 - val_acc: 0.9333\n",
      "Epoch 96/150\n",
      "5/5 [==============================] - 0s 20ms/step - loss: 9.3196e-04 - acc: 1.0000 - val_loss: 0.3550 - val_acc: 0.9333\n",
      "Epoch 97/150\n",
      "5/5 [==============================] - 0s 20ms/step - loss: 8.3926e-04 - acc: 1.0000 - val_loss: 0.3587 - val_acc: 0.9333\n",
      "Epoch 98/150\n",
      "5/5 [==============================] - 0s 20ms/step - loss: 7.9532e-04 - acc: 1.0000 - val_loss: 0.3622 - val_acc: 0.9333\n",
      "Epoch 99/150\n",
      "5/5 [==============================] - 0s 20ms/step - loss: 7.3705e-04 - acc: 1.0000 - val_loss: 0.3661 - val_acc: 0.9333\n",
      "Epoch 100/150\n",
      "5/5 [==============================] - 0s 17ms/step - loss: 7.0935e-04 - acc: 1.0000 - val_loss: 0.3686 - val_acc: 0.9333\n",
      "Epoch 101/150\n",
      "5/5 [==============================] - 0s 20ms/step - loss: 6.9872e-04 - acc: 1.0000 - val_loss: 0.3741 - val_acc: 0.9333\n",
      "Epoch 102/150\n",
      "5/5 [==============================] - 0s 19ms/step - loss: 6.1815e-04 - acc: 1.0000 - val_loss: 0.3774 - val_acc: 0.9300\n",
      "Epoch 103/150\n",
      "5/5 [==============================] - 0s 20ms/step - loss: 5.6762e-04 - acc: 1.0000 - val_loss: 0.3810 - val_acc: 0.9300\n",
      "Epoch 104/150\n",
      "5/5 [==============================] - 0s 19ms/step - loss: 5.1922e-04 - acc: 1.0000 - val_loss: 0.3846 - val_acc: 0.9300\n",
      "Epoch 105/150\n",
      "5/5 [==============================] - 0s 21ms/step - loss: 4.9358e-04 - acc: 1.0000 - val_loss: 0.3863 - val_acc: 0.9300\n",
      "Epoch 106/150\n",
      "5/5 [==============================] - 0s 20ms/step - loss: 4.7956e-04 - acc: 1.0000 - val_loss: 0.3913 - val_acc: 0.9300\n",
      "Epoch 107/150\n",
      "5/5 [==============================] - 0s 20ms/step - loss: 4.3864e-04 - acc: 1.0000 - val_loss: 0.3958 - val_acc: 0.9300\n",
      "Epoch 108/150\n",
      "5/5 [==============================] - 0s 19ms/step - loss: 4.1118e-04 - acc: 1.0000 - val_loss: 0.3983 - val_acc: 0.9333\n",
      "Epoch 109/150\n",
      "5/5 [==============================] - 0s 20ms/step - loss: 3.8156e-04 - acc: 1.0000 - val_loss: 0.4019 - val_acc: 0.9300\n",
      "Epoch 110/150\n",
      "5/5 [==============================] - 0s 20ms/step - loss: 3.6283e-04 - acc: 1.0000 - val_loss: 0.4044 - val_acc: 0.9300\n",
      "Epoch 111/150\n",
      "5/5 [==============================] - 0s 20ms/step - loss: 3.4352e-04 - acc: 1.0000 - val_loss: 0.4076 - val_acc: 0.9300\n",
      "Epoch 112/150\n",
      "5/5 [==============================] - 0s 20ms/step - loss: 3.2270e-04 - acc: 1.0000 - val_loss: 0.4112 - val_acc: 0.9300\n",
      "Epoch 113/150\n",
      "5/5 [==============================] - 0s 20ms/step - loss: 3.0600e-04 - acc: 1.0000 - val_loss: 0.4137 - val_acc: 0.9300\n",
      "Epoch 114/150\n",
      "5/5 [==============================] - 0s 20ms/step - loss: 3.0291e-04 - acc: 1.0000 - val_loss: 0.4177 - val_acc: 0.9300\n",
      "Epoch 115/150\n",
      "5/5 [==============================] - 0s 20ms/step - loss: 2.9366e-04 - acc: 1.0000 - val_loss: 0.4195 - val_acc: 0.9300\n",
      "Epoch 116/150\n",
      "5/5 [==============================] - 0s 20ms/step - loss: 2.5837e-04 - acc: 1.0000 - val_loss: 0.4218 - val_acc: 0.9333\n",
      "Epoch 117/150\n",
      "5/5 [==============================] - 0s 21ms/step - loss: 2.6145e-04 - acc: 1.0000 - val_loss: 0.4257 - val_acc: 0.9300\n",
      "Epoch 118/150\n",
      "5/5 [==============================] - 0s 20ms/step - loss: 2.5546e-04 - acc: 1.0000 - val_loss: 0.4273 - val_acc: 0.9300\n",
      "Epoch 119/150\n",
      "5/5 [==============================] - 0s 19ms/step - loss: 2.3596e-04 - acc: 1.0000 - val_loss: 0.4304 - val_acc: 0.9267\n",
      "Epoch 120/150\n",
      "5/5 [==============================] - 0s 20ms/step - loss: 2.1340e-04 - acc: 1.0000 - val_loss: 0.4353 - val_acc: 0.9300\n",
      "Epoch 121/150\n",
      "5/5 [==============================] - 0s 20ms/step - loss: 2.1901e-04 - acc: 1.0000 - val_loss: 0.4362 - val_acc: 0.9300\n",
      "Epoch 122/150\n",
      "5/5 [==============================] - 0s 20ms/step - loss: 1.9999e-04 - acc: 1.0000 - val_loss: 0.4384 - val_acc: 0.9300\n",
      "Epoch 123/150\n",
      "5/5 [==============================] - 0s 20ms/step - loss: 1.8760e-04 - acc: 1.0000 - val_loss: 0.4407 - val_acc: 0.9300\n",
      "Epoch 124/150\n",
      "5/5 [==============================] - 0s 20ms/step - loss: 1.7972e-04 - acc: 1.0000 - val_loss: 0.4431 - val_acc: 0.9300\n",
      "Epoch 125/150\n",
      "5/5 [==============================] - 0s 20ms/step - loss: 1.7242e-04 - acc: 1.0000 - val_loss: 0.4453 - val_acc: 0.9300\n",
      "Epoch 126/150\n",
      "5/5 [==============================] - 0s 20ms/step - loss: 1.6609e-04 - acc: 1.0000 - val_loss: 0.4477 - val_acc: 0.9300\n",
      "Epoch 127/150\n",
      "5/5 [==============================] - 0s 20ms/step - loss: 1.5984e-04 - acc: 1.0000 - val_loss: 0.4496 - val_acc: 0.9300\n",
      "Epoch 128/150\n",
      "5/5 [==============================] - 0s 20ms/step - loss: 1.5178e-04 - acc: 1.0000 - val_loss: 0.4517 - val_acc: 0.9300\n",
      "Epoch 129/150\n",
      "5/5 [==============================] - 0s 20ms/step - loss: 1.4912e-04 - acc: 1.0000 - val_loss: 0.4542 - val_acc: 0.9300\n",
      "Epoch 130/150\n",
      "5/5 [==============================] - 0s 22ms/step - loss: 1.4226e-04 - acc: 1.0000 - val_loss: 0.4567 - val_acc: 0.9300\n",
      "Epoch 131/150\n",
      "5/5 [==============================] - 0s 19ms/step - loss: 1.3748e-04 - acc: 1.0000 - val_loss: 0.4590 - val_acc: 0.9300\n",
      "Epoch 132/150\n",
      "5/5 [==============================] - 0s 19ms/step - loss: 1.3132e-04 - acc: 1.0000 - val_loss: 0.4623 - val_acc: 0.9300\n",
      "Epoch 133/150\n",
      "5/5 [==============================] - 0s 19ms/step - loss: 1.2465e-04 - acc: 1.0000 - val_loss: 0.4669 - val_acc: 0.9267\n",
      "Epoch 134/150\n",
      "5/5 [==============================] - 0s 20ms/step - loss: 1.1345e-04 - acc: 1.0000 - val_loss: 0.4690 - val_acc: 0.9300\n",
      "Epoch 135/150\n",
      "5/5 [==============================] - 0s 20ms/step - loss: 1.0819e-04 - acc: 1.0000 - val_loss: 0.4709 - val_acc: 0.9267\n",
      "Epoch 136/150\n",
      "5/5 [==============================] - 0s 20ms/step - loss: 1.0223e-04 - acc: 1.0000 - val_loss: 0.4732 - val_acc: 0.9300\n",
      "Epoch 137/150\n",
      "5/5 [==============================] - 0s 21ms/step - loss: 9.8097e-05 - acc: 1.0000 - val_loss: 0.4758 - val_acc: 0.9300\n",
      "Epoch 138/150\n",
      "5/5 [==============================] - 0s 20ms/step - loss: 9.2732e-05 - acc: 1.0000 - val_loss: 0.4786 - val_acc: 0.9267\n",
      "Epoch 139/150\n",
      "5/5 [==============================] - 0s 19ms/step - loss: 8.9656e-05 - acc: 1.0000 - val_loss: 0.4816 - val_acc: 0.9300\n",
      "Epoch 140/150\n",
      "5/5 [==============================] - 0s 20ms/step - loss: 8.5000e-05 - acc: 1.0000 - val_loss: 0.4843 - val_acc: 0.9267\n",
      "Epoch 141/150\n",
      "5/5 [==============================] - 0s 20ms/step - loss: 8.2062e-05 - acc: 1.0000 - val_loss: 0.4869 - val_acc: 0.9267\n",
      "Epoch 142/150\n",
      "5/5 [==============================] - 0s 20ms/step - loss: 7.8299e-05 - acc: 1.0000 - val_loss: 0.4891 - val_acc: 0.9300\n",
      "Epoch 143/150\n",
      "5/5 [==============================] - 0s 20ms/step - loss: 7.5865e-05 - acc: 1.0000 - val_loss: 0.4917 - val_acc: 0.9300\n",
      "Epoch 144/150\n",
      "5/5 [==============================] - 0s 20ms/step - loss: 7.2884e-05 - acc: 1.0000 - val_loss: 0.4939 - val_acc: 0.9267\n",
      "Epoch 145/150\n",
      "5/5 [==============================] - 0s 19ms/step - loss: 7.0730e-05 - acc: 1.0000 - val_loss: 0.4958 - val_acc: 0.9267\n",
      "Epoch 146/150\n",
      "5/5 [==============================] - 0s 19ms/step - loss: 6.8720e-05 - acc: 1.0000 - val_loss: 0.4975 - val_acc: 0.9300\n",
      "Epoch 147/150\n",
      "5/5 [==============================] - 0s 20ms/step - loss: 6.6313e-05 - acc: 1.0000 - val_loss: 0.4992 - val_acc: 0.9267\n",
      "Epoch 148/150\n",
      "5/5 [==============================] - 0s 19ms/step - loss: 6.5787e-05 - acc: 1.0000 - val_loss: 0.5010 - val_acc: 0.9300\n",
      "Epoch 149/150\n",
      "5/5 [==============================] - 0s 20ms/step - loss: 6.1927e-05 - acc: 1.0000 - val_loss: 0.5030 - val_acc: 0.9267\n",
      "Epoch 150/150\n",
      "5/5 [==============================] - 0s 18ms/step - loss: 6.0368e-05 - acc: 1.0000 - val_loss: 0.5046 - val_acc: 0.9267\n",
      "\n",
      "\n",
      "\n",
      "39/39 [==============================] - 0s 3ms/step - loss: 5.8575e-05 - acc: 1.0000\n",
      "12/12 [==============================] - 0s 3ms/step - loss: 1.0490 - acc: 0.8737\n",
      "Train: [5.857477299286984e-05, 1.0] || Test: [1.0489954948425293, 0.8736842274665833]\n"
     ]
    }
   ],
   "source": [
    "model.compile(optimizer=Adam(learning_rate=0.001),metrics=['acc'],loss='binary_crossentropy')\n",
    "results = model.fit(\n",
    "                    train_img,\n",
    "                    train_y,\n",
    "                    epochs=150,\n",
    "                    batch_size=256,\n",
    "                    validation_data=(val_img,val_y)\n",
    "            )\n",
    "print('\\n\\n')\n",
    "acc1 = model.evaluate(train_img,train_y)\n",
    "acc2 = model.evaluate(test_img,test_y)\n",
    "print((f'Train: {acc1} || Test: {acc2}'))"
   ]
  },
  {
   "cell_type": "code",
   "execution_count": 12,
   "id": "dd0c41e9-4059-4699-bc9b-e07018e0016d",
   "metadata": {
    "scrolled": true
   },
   "outputs": [
    {
     "data": {
      "image/png": "[encoded data removed]",
      "text/plain": [
       "<Figure size 640x480 with 1 Axes>"
      ]
     },
     "metadata": {},
     "output_type": "display_data"
    },
    {
     "data": {
      "image/png": "[encoded data removed]",
      "text/plain": [
       "<Figure size 640x480 with 1 Axes>"
      ]
     },
     "metadata": {},
     "output_type": "display_data"
    }
   ],
   "source": [
    "def visualize_training_results(results):\n",
    "    plt.figure()\n",
    "    plt.plot(results.history['val_loss'])\n",
    "    plt.plot(results.history['loss'])\n",
    "    plt.legend(['val_loss', 'loss'])\n",
    "    plt.title('Loss')\n",
    "    plt.xlabel('Epochs')\n",
    "    plt.ylabel('Loss')\n",
    "    plt.show()\n",
    "    \n",
    "    plt.figure()\n",
    "    plt.plot(results.history['val_acc'])\n",
    "    plt.plot(results.history['acc'])\n",
    "    plt.legend(['val_acc', 'acc'])\n",
    "    plt.title('Accuracy')\n",
    "    plt.xlabel('Epochs')\n",
    "    plt.ylabel('Accuracy')\n",
    "    plt.show()\n",
    "\n",
    "\n",
    "visualize_training_results(results)"
   ]
  },
  {
   "cell_type": "code",
   "execution_count": 13,
   "id": "bc4cfc1b-4547-471e-bce5-26375a404a44",
   "metadata": {},
   "outputs": [],
   "source": [
    "cnn_model = models.Sequential()\n",
    "\n",
    "cnn_model.add(layers.Conv2D(32 , (3,3) , activation='relu' , input_shape=(64,64,3)))\n",
    "cnn_model.add(layers.MaxPool2D((2,2)))\n",
    "\n",
    "cnn_model.add(layers.Conv2D(64 , (4,4) , activation='relu'))\n",
    "cnn_model.add(layers.MaxPool2D((2,2)))\n",
    "\n",
    "cnn_model.add(layers.Conv2D(128 , (3,3) , activation='relu'))\n",
    "cnn_model.add(layers.MaxPool2D((2,2)))\n",
    "\n",
    "cnn_model.add(layers.Conv2D(256 , (3,3) , activation='relu'))\n",
    "cnn_model.add(layers.MaxPool2D((2,2)))\n",
    "\n",
    "cnn_model.add(layers.Flatten())\n",
    "cnn_model.add(layers.Dense(64, activation='relu'))\n",
    "cnn_model.add(layers.Dense(1, activation='sigmoid'))"
   ]
  },
  {
   "cell_type": "code",
   "execution_count": 14,
   "id": "97dc9ea1-1403-4110-8279-f22219be193d",
   "metadata": {},
   "outputs": [],
   "source": [
    "# Compile the model\n",
    "cnn_model.compile(optimizer=Adam(learning_rate=0.001),loss='binary_crossentropy',metrics=['acc'])"
   ]
  },
  {
   "cell_type": "code",
   "execution_count": 15,
   "id": "8dda8dbc-b301-4649-9f3f-ff9b2795ff04",
   "metadata": {
    "scrolled": true
   },
   "outputs": [
    {
     "name": "stdout",
     "output_type": "stream",
     "text": [
      "Epoch 1/35\n",
      "5/5 [==============================] - 4s 720ms/step - loss: 0.5597 - acc: 0.7525 - val_loss: 0.2781 - val_acc: 0.8800\n",
      "Epoch 2/35\n",
      "5/5 [==============================] - 3s 671ms/step - loss: 0.3807 - acc: 0.8508 - val_loss: 0.4585 - val_acc: 0.8567\n",
      "Epoch 3/35\n",
      "5/5 [==============================] - 4s 702ms/step - loss: 0.3115 - acc: 0.8877 - val_loss: 0.2128 - val_acc: 0.9167\n",
      "Epoch 4/35\n",
      "5/5 [==============================] - 3s 682ms/step - loss: 0.2092 - acc: 0.9213 - val_loss: 0.2038 - val_acc: 0.9233\n",
      "Epoch 5/35\n",
      "5/5 [==============================] - 3s 695ms/step - loss: 0.1944 - acc: 0.9344 - val_loss: 0.1807 - val_acc: 0.9367\n",
      "Epoch 6/35\n",
      "5/5 [==============================] - 4s 767ms/step - loss: 0.1506 - acc: 0.9393 - val_loss: 0.1652 - val_acc: 0.9400\n",
      "Epoch 7/35\n",
      "5/5 [==============================] - 4s 792ms/step - loss: 0.1294 - acc: 0.9598 - val_loss: 0.1670 - val_acc: 0.9367\n",
      "Epoch 8/35\n",
      "5/5 [==============================] - 4s 802ms/step - loss: 0.1207 - acc: 0.9574 - val_loss: 0.1568 - val_acc: 0.9400\n",
      "Epoch 9/35\n",
      "5/5 [==============================] - 4s 703ms/step - loss: 0.1064 - acc: 0.9680 - val_loss: 0.1221 - val_acc: 0.9533\n",
      "Epoch 10/35\n",
      "5/5 [==============================] - 3s 669ms/step - loss: 0.0984 - acc: 0.9689 - val_loss: 0.1148 - val_acc: 0.9700\n",
      "Epoch 11/35\n",
      "5/5 [==============================] - 4s 800ms/step - loss: 0.0911 - acc: 0.9697 - val_loss: 0.1132 - val_acc: 0.9600\n",
      "Epoch 12/35\n",
      "5/5 [==============================] - 4s 847ms/step - loss: 0.0849 - acc: 0.9713 - val_loss: 0.1176 - val_acc: 0.9600\n",
      "Epoch 13/35\n",
      "5/5 [==============================] - 4s 861ms/step - loss: 0.0830 - acc: 0.9738 - val_loss: 0.1311 - val_acc: 0.9500\n",
      "Epoch 14/35\n",
      "5/5 [==============================] - 4s 839ms/step - loss: 0.0814 - acc: 0.9672 - val_loss: 0.0950 - val_acc: 0.9700\n",
      "Epoch 15/35\n",
      "5/5 [==============================] - 4s 800ms/step - loss: 0.0701 - acc: 0.9762 - val_loss: 0.0897 - val_acc: 0.9700\n",
      "Epoch 16/35\n",
      "5/5 [==============================] - 4s 850ms/step - loss: 0.0701 - acc: 0.9746 - val_loss: 0.1163 - val_acc: 0.9667\n",
      "Epoch 17/35\n",
      "5/5 [==============================] - 4s 831ms/step - loss: 0.0797 - acc: 0.9754 - val_loss: 0.0888 - val_acc: 0.9733\n",
      "Epoch 18/35\n",
      "5/5 [==============================] - 4s 798ms/step - loss: 0.0751 - acc: 0.9795 - val_loss: 0.1059 - val_acc: 0.9633\n",
      "Epoch 19/35\n",
      "5/5 [==============================] - 4s 750ms/step - loss: 0.0639 - acc: 0.9762 - val_loss: 0.0997 - val_acc: 0.9667\n",
      "Epoch 20/35\n",
      "5/5 [==============================] - 4s 745ms/step - loss: 0.0574 - acc: 0.9828 - val_loss: 0.1083 - val_acc: 0.9600\n",
      "Epoch 21/35\n",
      "5/5 [==============================] - 4s 727ms/step - loss: 0.0653 - acc: 0.9770 - val_loss: 0.0844 - val_acc: 0.9733\n",
      "Epoch 22/35\n",
      "5/5 [==============================] - 4s 825ms/step - loss: 0.0566 - acc: 0.9803 - val_loss: 0.1427 - val_acc: 0.9400\n",
      "Epoch 23/35\n",
      "5/5 [==============================] - 4s 813ms/step - loss: 0.0677 - acc: 0.9779 - val_loss: 0.0946 - val_acc: 0.9733\n",
      "Epoch 24/35\n",
      "5/5 [==============================] - 4s 857ms/step - loss: 0.0678 - acc: 0.9730 - val_loss: 0.1265 - val_acc: 0.9500\n",
      "Epoch 25/35\n",
      "5/5 [==============================] - 4s 720ms/step - loss: 0.0560 - acc: 0.9795 - val_loss: 0.1305 - val_acc: 0.9433\n",
      "Epoch 26/35\n",
      "5/5 [==============================] - 4s 743ms/step - loss: 0.0473 - acc: 0.9828 - val_loss: 0.0932 - val_acc: 0.9700\n",
      "Epoch 27/35\n",
      "5/5 [==============================] - 4s 728ms/step - loss: 0.0462 - acc: 0.9836 - val_loss: 0.0910 - val_acc: 0.9767\n",
      "Epoch 28/35\n",
      "5/5 [==============================] - 4s 717ms/step - loss: 0.0432 - acc: 0.9836 - val_loss: 0.0765 - val_acc: 0.9767\n",
      "Epoch 29/35\n",
      "5/5 [==============================] - 4s 721ms/step - loss: 0.0360 - acc: 0.9902 - val_loss: 0.0675 - val_acc: 0.9833\n",
      "Epoch 30/35\n",
      "5/5 [==============================] - 4s 717ms/step - loss: 0.0338 - acc: 0.9893 - val_loss: 0.0795 - val_acc: 0.9767\n",
      "Epoch 31/35\n",
      "5/5 [==============================] - 4s 727ms/step - loss: 0.0302 - acc: 0.9918 - val_loss: 0.0748 - val_acc: 0.9733\n",
      "Epoch 32/35\n",
      "5/5 [==============================] - 4s 719ms/step - loss: 0.0262 - acc: 0.9918 - val_loss: 0.0685 - val_acc: 0.9833\n",
      "Epoch 33/35\n",
      "5/5 [==============================] - 4s 717ms/step - loss: 0.0251 - acc: 0.9926 - val_loss: 0.0705 - val_acc: 0.9800\n",
      "Epoch 34/35\n",
      "5/5 [==============================] - 4s 716ms/step - loss: 0.0268 - acc: 0.9926 - val_loss: 0.0784 - val_acc: 0.9700\n",
      "Epoch 35/35\n",
      "5/5 [==============================] - 4s 717ms/step - loss: 0.0251 - acc: 0.9910 - val_loss: 0.0908 - val_acc: 0.9700\n"
     ]
    }
   ],
   "source": [
    "results2 = cnn_model.fit(\n",
    "        train_images,\n",
    "        train_y,\n",
    "        epochs = 35,\n",
    "        batch_size = 256,\n",
    "        validation_data=(val_images,val_y)\n",
    "    )"
   ]
  },
  {
   "cell_type": "code",
   "execution_count": 16,
   "id": "715e4b92-a29e-4e61-9edd-e3d5c03984ca",
   "metadata": {},
   "outputs": [
    {
     "name": "stdout",
     "output_type": "stream",
     "text": [
      "39/39 [==============================] - 1s 25ms/step - loss: 0.0238 - acc: 0.9918\n",
      "12/12 [==============================] - 0s 23ms/step - loss: 0.1883 - acc: 0.9474\n",
      "Train: [0.02376353181898594, 0.9918032884597778]\n",
      "Test: [0.18829534947872162, 0.9473684430122375]\n"
     ]
    }
   ],
   "source": [
    "acc1 = cnn_model.evaluate(train_images,train_y)\n",
    "acc2 = cnn_model.evaluate(test_images,test_y)\n",
    "print((f'Train: {acc1}\\nTest: {acc2}'))"
   ]
  },
  {
   "cell_type": "code",
   "execution_count": 17,
   "id": "17e4e6b8-9798-4ecc-bf14-d937dc2b2d72",
   "metadata": {
    "scrolled": true
   },
   "outputs": [
    {
     "data": {
      "image/png": "[encoded data removed]",
      "text/plain": [
       "<Figure size 640x480 with 1 Axes>"
      ]
     },
     "metadata": {},
     "output_type": "display_data"
    },
    {
     "data": {
      "image/png": "[encoded data removed]",
      "text/plain": [
       "<Figure size 640x480 with 1 Axes>"
      ]
     },
     "metadata": {},
     "output_type": "display_data"
    }
   ],
   "source": [
    "def visualize_training_results(results):\n",
    "    plt.figure()\n",
    "    plt.plot(results.history['val_loss'])\n",
    "    plt.plot(results.history['loss'])\n",
    "    plt.legend(['val_loss', 'loss'])\n",
    "    plt.title('Loss')\n",
    "    plt.xlabel('Epochs')\n",
    "    plt.ylabel('Loss')\n",
    "    plt.show()\n",
    "    \n",
    "    plt.figure()\n",
    "    plt.plot(results.history['val_acc'])\n",
    "    plt.plot(results.history['acc'])\n",
    "    plt.legend(['val_acc', 'acc'])\n",
    "    plt.title('Accuracy')\n",
    "    plt.xlabel('Epochs')\n",
    "    plt.ylabel('Accuracy')\n",
    "    plt.show()\n",
    "\n",
    "\n",
    "visualize_training_results(results2)"
   ]
  },
  {
   "cell_type": "code",
   "execution_count": 18,
   "id": "ae0bee62-247c-46ee-a4d8-e4c26b890f28",
   "metadata": {},
   "outputs": [
    {
     "name": "stdout",
     "output_type": "stream",
     "text": [
      "Found 1220 images belonging to 2 classes.\n",
      "Found 380 images belonging to 2 classes.\n",
      "Found 300 images belonging to 2 classes.\n"
     ]
    }
   ],
   "source": [
    "train_new_gen = ImageDataGenerator(rescale=1./255, \n",
    "                                   rotation_range=40, \n",
    "                                   width_shift_range=0.2, \n",
    "                                   height_shift_range=0.2, \n",
    "                                   shear_range=0.3, \n",
    "                                   zoom_range=0.1, \n",
    "                                   horizontal_flip=False)\n",
    "\n",
    "train_generator = train_new_gen.flow_from_directory(\n",
    "    train_folder,\n",
    "    target_size=(64,64),\n",
    "    batch_size=1220,\n",
    "    class_mode = 'binary'\n",
    "    )\n",
    "\n",
    "test_generator = ImageDataGenerator(rescale=1./255).flow_from_directory(\n",
    "    test_folder,\n",
    "    target_size=(64,64),\n",
    "    batch_size=380,\n",
    "    class_mode = 'binary'\n",
    ")\n",
    "\n",
    "val_generator = ImageDataGenerator(rescale=1./255).flow_from_directory(\n",
    "    val_folder,\n",
    "    target_size=(64,64),\n",
    "    batch_size=300,\n",
    "    class_mode = 'binary'\n",
    ")"
   ]
  },
  {
   "cell_type": "code",
   "execution_count": 19,
   "id": "ba106946-1590-46f5-a70c-406364aaf923",
   "metadata": {},
   "outputs": [],
   "source": [
    "aug = models.Sequential()\n",
    "aug.add(layers.Conv2D(32 , (3,3) , activation='relu' , input_shape=(64,64,3)))\n",
    "aug.add(layers.MaxPool2D((2,2)))\n",
    "\n",
    "aug.add(layers.Conv2D(64 , (4,4) , activation='relu'))\n",
    "aug.add(layers.MaxPool2D((2,2)))\n",
    "\n",
    "aug.add(layers.Conv2D(128 , (3,3) , activation='relu'))\n",
    "aug.add(layers.MaxPool2D((2,2)))\n",
    "\n",
    "aug.add(layers.Conv2D(256 , (3,3) , activation='relu'))\n",
    "aug.add(layers.MaxPool2D((2,2)))\n",
    "\n",
    "aug.add(layers.Flatten())\n",
    "aug.add(layers.Dense(64, activation='relu'))\n",
    "aug.add(layers.Dense(1, activation='sigmoid'))"
   ]
  },
  {
   "cell_type": "code",
   "execution_count": 20,
   "id": "2c665ed2-b8bf-4770-beb0-c6f26ae4f044",
   "metadata": {},
   "outputs": [],
   "source": [
    "aug.compile(optimizer='sgd',loss='binary_crossentropy',metrics=['acc'])"
   ]
  },
  {
   "cell_type": "code",
   "execution_count": 21,
   "id": "b58fb2b8-8540-45a6-bfd6-8cba0b13a5bb",
   "metadata": {
    "scrolled": true
   },
   "outputs": [
    {
     "name": "stdout",
     "output_type": "stream",
     "text": [
      "Epoch 1/30\n",
      "1/1 [==============================] - 16s 16s/step - loss: 0.6877 - acc: 0.5000 - val_loss: 0.6857 - val_acc: 0.5000\n",
      "Epoch 2/30\n",
      "1/1 [==============================] - 6s 6s/step - loss: 0.6868 - acc: 0.5008 - val_loss: 0.6846 - val_acc: 0.5000\n",
      "Epoch 3/30\n",
      "1/1 [==============================] - 1s 553ms/step - loss: 0.6857 - acc: 0.4992 - val_loss: 0.6836 - val_acc: 0.5000\n",
      "Epoch 4/30\n",
      "1/1 [==============================] - 1s 561ms/step - loss: 0.6847 - acc: 0.5008 - val_loss: 0.6826 - val_acc: 0.5000\n",
      "Epoch 5/30\n",
      "1/1 [==============================] - 1s 593ms/step - loss: 0.6838 - acc: 0.5033 - val_loss: 0.6816 - val_acc: 0.5000\n",
      "Epoch 6/30\n",
      "1/1 [==============================] - 1s 582ms/step - loss: 0.6826 - acc: 0.5066 - val_loss: 0.6806 - val_acc: 0.5100\n",
      "Epoch 7/30\n",
      "1/1 [==============================] - 1s 582ms/step - loss: 0.6819 - acc: 0.5131 - val_loss: 0.6796 - val_acc: 0.5200\n",
      "Epoch 8/30\n",
      "1/1 [==============================] - 1s 539ms/step - loss: 0.6808 - acc: 0.5287 - val_loss: 0.6786 - val_acc: 0.5367\n",
      "Epoch 9/30\n",
      "1/1 [==============================] - 1s 554ms/step - loss: 0.6801 - acc: 0.5484 - val_loss: 0.6777 - val_acc: 0.5500\n",
      "Epoch 10/30\n",
      "1/1 [==============================] - 4s 4s/step - loss: 0.6789 - acc: 0.5705 - val_loss: 0.6768 - val_acc: 0.5700\n",
      "Epoch 11/30\n",
      "1/1 [==============================] - 3s 3s/step - loss: 0.6784 - acc: 0.5852 - val_loss: 0.6758 - val_acc: 0.5800\n",
      "Epoch 12/30\n",
      "1/1 [==============================] - 1s 708ms/step - loss: 0.6775 - acc: 0.6107 - val_loss: 0.6748 - val_acc: 0.6067\n",
      "Epoch 13/30\n",
      "1/1 [==============================] - 1s 575ms/step - loss: 0.6765 - acc: 0.6303 - val_loss: 0.6739 - val_acc: 0.6333\n",
      "Epoch 14/30\n",
      "1/1 [==============================] - 1s 590ms/step - loss: 0.6755 - acc: 0.6549 - val_loss: 0.6728 - val_acc: 0.6533\n",
      "Epoch 15/30\n",
      "1/1 [==============================] - 1s 562ms/step - loss: 0.6745 - acc: 0.6730 - val_loss: 0.6718 - val_acc: 0.6800\n",
      "Epoch 16/30\n",
      "1/1 [==============================] - 1s 558ms/step - loss: 0.6737 - acc: 0.6861 - val_loss: 0.6708 - val_acc: 0.6900\n",
      "Epoch 17/30\n",
      "1/1 [==============================] - 1s 624ms/step - loss: 0.6726 - acc: 0.7156 - val_loss: 0.6696 - val_acc: 0.7067\n",
      "Epoch 18/30\n",
      "1/1 [==============================] - 1s 571ms/step - loss: 0.6716 - acc: 0.7213 - val_loss: 0.6685 - val_acc: 0.7067\n",
      "Epoch 19/30\n",
      "1/1 [==============================] - 1s 566ms/step - loss: 0.6711 - acc: 0.7279 - val_loss: 0.6674 - val_acc: 0.7167\n",
      "Epoch 20/30\n",
      "1/1 [==============================] - 1s 546ms/step - loss: 0.6691 - acc: 0.7459 - val_loss: 0.6663 - val_acc: 0.7267\n",
      "Epoch 21/30\n",
      "1/1 [==============================] - 1s 567ms/step - loss: 0.6689 - acc: 0.7582 - val_loss: 0.6652 - val_acc: 0.7400\n",
      "Epoch 22/30\n",
      "1/1 [==============================] - 1s 543ms/step - loss: 0.6672 - acc: 0.7598 - val_loss: 0.6641 - val_acc: 0.7467\n",
      "Epoch 23/30\n",
      "1/1 [==============================] - 1s 568ms/step - loss: 0.6663 - acc: 0.7779 - val_loss: 0.6630 - val_acc: 0.7467\n",
      "Epoch 24/30\n",
      "1/1 [==============================] - 1s 564ms/step - loss: 0.6656 - acc: 0.7672 - val_loss: 0.6619 - val_acc: 0.7600\n",
      "Epoch 25/30\n",
      "1/1 [==============================] - 1s 570ms/step - loss: 0.6646 - acc: 0.7893 - val_loss: 0.6608 - val_acc: 0.7700\n",
      "Epoch 26/30\n",
      "1/1 [==============================] - 1s 597ms/step - loss: 0.6629 - acc: 0.7943 - val_loss: 0.6597 - val_acc: 0.7733\n",
      "Epoch 27/30\n",
      "1/1 [==============================] - 1s 621ms/step - loss: 0.6627 - acc: 0.7918 - val_loss: 0.6586 - val_acc: 0.7767\n",
      "Epoch 28/30\n",
      "1/1 [==============================] - 1s 651ms/step - loss: 0.6618 - acc: 0.8000 - val_loss: 0.6574 - val_acc: 0.7833\n",
      "Epoch 29/30\n",
      "1/1 [==============================] - 1s 571ms/step - loss: 0.6600 - acc: 0.8066 - val_loss: 0.6562 - val_acc: 0.7900\n",
      "Epoch 30/30\n",
      "1/1 [==============================] - 1s 569ms/step - loss: 0.6591 - acc: 0.8049 - val_loss: 0.6551 - val_acc: 0.8000\n"
     ]
    },
    {
     "data": {
      "text/plain": [
       "<tensorflow.python.keras.callbacks.History at 0x2bbc75434f0>"
      ]
     },
     "execution_count": 21,
     "metadata": {},
     "output_type": "execute_result"
    }
   ],
   "source": [
    "aug.fit(\n",
    "    train_generator,\n",
    "    epochs=30,\n",
    "    validation_data = val_generator\n",
    ")"
   ]
  },
  {
   "cell_type": "code",
   "execution_count": 22,
   "id": "cf0ceade-a79f-437b-b5c4-ad05c2d4d81c",
   "metadata": {},
   "outputs": [
    {
     "name": "stdout",
     "output_type": "stream",
     "text": [
      "1/1 [==============================] - 0s 999us/step - loss: 0.6581 - acc: 0.8049\n",
      "1/1 [==============================] - 0s 999us/step - loss: 0.6636 - acc: 0.7395\n",
      "Train: [0.658092737197876, 0.8049180507659912]\n",
      "Test: [0.6635946035385132, 0.7394737005233765]\n"
     ]
    }
   ],
   "source": [
    "acc1 = aug.evaluate(train_generator)\n",
    "acc2 = aug.evaluate(test_generator)\n",
    "print((f'Train: {acc1}\\nTest: {acc2}'))"
   ]
  },
  {
   "cell_type": "markdown",
   "id": "05cd375a-45f5-4dc4-9d38-57a2866c89ff",
   "metadata": {},
   "source": [
    "#### Out of the three Models , the results of the cnn_model without augmentation are promising, indicating that the model has learned meaningful patterns from the training data and can make accurate predictions on new instances.\n"
   ]
  },
  {
   "cell_type": "code",
   "execution_count": 43,
   "id": "21f780e3-af07-46e2-b8ce-e108f3ffa2de",
   "metadata": {},
   "outputs": [
    {
     "name": "stdout",
     "output_type": "stream",
     "text": [
      "Model saved successfully!\n"
     ]
    }
   ],
   "source": [
    "# Saving the model\n",
    "cnn_model.save('dep_model.h5')\n",
    "print(\"Model saved successfully!\")"
   ]
  },
  {
   "cell_type": "code",
   "execution_count": null,
   "id": "d5be88d9-4103-4a9e-89d3-39bb60d1eb90",
   "metadata": {},
   "outputs": [],
   "source": []
  }
 ],
 "metadata": {
  "kernelspec": {
   "display_name": "Python (spark-env)",
   "language": "python",
   "name": "spark-env"
  },
  "language_info": {
   "codemirror_mode": {
    "name": "ipython",
    "version": 3
   },
   "file_extension": ".py",
   "mimetype": "text/x-python",
   "name": "python",
   "nbconvert_exporter": "python",
   "pygments_lexer": "ipython3",
   "version": "3.8.18"
  }
 },
 "nbformat": 4,
 "nbformat_minor": 5
}
