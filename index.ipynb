{
 "cells": [
  {
   "cell_type": "code",
   "execution_count": 1,
   "id": "a8baf6ab-3696-4066-8606-aa4a6071c1b4",
   "metadata": {},
   "outputs": [],
   "source": [
    "import numpy as np\n",
    "import matplotlib.pyplot as plt\n",
    "import os , shutil"
   ]
  },
  {
   "cell_type": "markdown",
   "id": "4303198b-8200-43a6-8439-eafc7992f332",
   "metadata": {},
   "source": [
    "##### Image Lenghts refer to `preparation.ipynb` in this directory\n",
    "\n",
    "Test folder contains images 190 images with fire and 190 images images with No fire.\n",
    "\n",
    "Train folder contains images 610 images with fire and 610 images images with No fire.\n",
    "\n",
    "Validation folder contains images 150 images with fire and 150 images images with No fire. images"
   ]
  },
  {
   "cell_type": "code",
   "execution_count": 2,
   "id": "449117d5-81cb-46ba-84d2-9aa6c1c72246",
   "metadata": {},
   "outputs": [],
   "source": [
    "test_folder = os.path.join('data' , 'test')\n",
    "train_folder = os.path.join('data', 'train')\n",
    "val_folder = os.path.join('data','validation')\n"
   ]
  },
  {
   "cell_type": "code",
   "execution_count": 3,
   "id": "ddc1c6f8-f975-4605-9d2f-6daf6054eb6a",
   "metadata": {},
   "outputs": [],
   "source": [
    "import time\n",
    "import scipy\n",
    "from PIL import Image\n",
    "from scipy import ndimage\n",
    "from tensorflow.keras.preprocessing.image import ImageDataGenerator, array_to_img, img_to_array, load_img\n",
    "\n",
    "np.random.seed(123)"
   ]
  },
  {
   "cell_type": "code",
   "execution_count": 4,
   "id": "81d3d2ad-6f44-4e21-ae86-596c35aeb731",
   "metadata": {},
   "outputs": [
    {
     "name": "stdout",
     "output_type": "stream",
     "text": [
      "Found 1220 images belonging to 2 classes.\n",
      "Found 380 images belonging to 2 classes.\n",
      "Found 300 images belonging to 2 classes.\n"
     ]
    }
   ],
   "source": [
    "train_generator = ImageDataGenerator(rescale=1./255).flow_from_directory(\n",
    "    train_folder,\n",
    "    target_size=(64,64),\n",
    "    batch_size=1220\n",
    "    )\n",
    "\n",
    "test_generator = ImageDataGenerator(rescale=1./255).flow_from_directory(\n",
    "    test_folder,\n",
    "    target_size=(64,64),\n",
    "    batch_size=380\n",
    ")\n",
    "\n",
    "val_generator = ImageDataGenerator(rescale=1./255).flow_from_directory(\n",
    "    val_folder,\n",
    "    target_size=(64,64),\n",
    "    batch_size=300\n",
    ")"
   ]
  },
  {
   "cell_type": "code",
   "execution_count": 5,
   "id": "2bd87095-8af4-40d3-82f3-b761993aeb6e",
   "metadata": {},
   "outputs": [],
   "source": [
    "train_images , train_labels = next(train_generator)\n",
    "test_images , test_labels = next(test_generator)\n",
    "val_images , val_labels = next(val_generator)"
   ]
  },
  {
   "cell_type": "code",
   "execution_count": 6,
   "id": "be42baa1-dc34-44ee-8dad-e0d99b862902",
   "metadata": {},
   "outputs": [
    {
     "name": "stdout",
     "output_type": "stream",
     "text": [
      "(1220, 64, 64, 3) (1220, 2)\n",
      "(380, 64, 64, 3) (380, 2)\n",
      "(300, 64, 64, 3) (300, 2)\n"
     ]
    }
   ],
   "source": [
    "print(train_images.shape , train_labels.shape)\n",
    "print(test_images.shape , test_labels.shape)\n",
    "print(val_images.shape , val_labels.shape)"
   ]
  },
  {
   "cell_type": "code",
   "execution_count": 7,
   "id": "d0eeb191-2787-4f90-a7a5-bad0e0bf03f5",
   "metadata": {},
   "outputs": [
    {
     "name": "stdout",
     "output_type": "stream",
     "text": [
      "train shape (1220, 12288) \n",
      "test shape (380, 12288) \n",
      "val shape (300, 12288)\n"
     ]
    }
   ],
   "source": [
    "train_img = train_images.reshape(train_images.shape[0], -1)\n",
    "test_img = test_images.reshape(test_images.shape[0], -1)\n",
    "val_img = val_images.reshape(val_images.shape[0], -1)\n",
    "\n",
    "print(f'train shape {train_img.shape} \\ntest shape {test_img.shape} \\nval shape {val_img.shape}')"
   ]
  },
  {
   "cell_type": "code",
   "execution_count": 8,
   "id": "a373c69b-cea8-4d83-9bd2-7b58affcfe14",
   "metadata": {},
   "outputs": [
    {
     "name": "stdout",
     "output_type": "stream",
     "text": [
      "train shape (1220, 1) \n",
      "test shape (380, 1) \n",
      "val shape (300, 1)\n"
     ]
    }
   ],
   "source": [
    "train_y = np.reshape(train_labels[:,0] , (1220,1))\n",
    "test_y = np.reshape(test_labels[:,0] , (380,1))\n",
    "val_y = np.reshape(val_labels[:,0] , (300,1))\n",
    "\n",
    "print(f'train shape {train_y.shape} \\ntest shape {test_y.shape} \\nval shape {val_y.shape}')"
   ]
  },
  {
   "cell_type": "code",
   "execution_count": 9,
   "id": "c5a35afd-f70e-4df6-aa29-ee048d4aeaa1",
   "metadata": {},
   "outputs": [],
   "source": [
    "from tensorflow.keras import layers , models\n",
    "from tensorflow.keras.regularizers import l1,l2\n",
    "from tensorflow.keras.optimizers import Adam"
   ]
  },
  {
   "cell_type": "code",
   "execution_count": 10,
   "id": "0c7e7867-3dcb-47b8-84ea-a14426f1dd6f",
   "metadata": {},
   "outputs": [],
   "source": [
    "input_shape = (12288,)\n",
    "model = models.Sequential()\n",
    "\n",
    "model.add(layers.Dense(150,activation='relu',input_shape=input_shape))\n",
    "model.add(layers.Dense(100,activation='relu'))\n",
    "model.add(layers.Dense(50,activation='relu'))\n",
    "model.add(layers.Dense(1,activation='sigmoid'))\n"
   ]
  },
  {
   "cell_type": "code",
   "execution_count": 11,
   "id": "14c9f0dc-a168-4ae5-a8ec-bc00d21588a9",
   "metadata": {},
   "outputs": [
    {
     "name": "stdout",
     "output_type": "stream",
     "text": [
      "Epoch 1/150\n",
      "5/5 [==============================] - 0s 62ms/step - loss: 1.0001 - acc: 0.5951 - val_loss: 0.3644 - val_acc: 0.8067\n",
      "Epoch 2/150\n",
      "5/5 [==============================] - 0s 28ms/step - loss: 0.3863 - acc: 0.8131 - val_loss: 0.2924 - val_acc: 0.8533\n",
      "Epoch 3/150\n",
      "5/5 [==============================] - 0s 20ms/step - loss: 0.3129 - acc: 0.8689 - val_loss: 0.2947 - val_acc: 0.8900\n",
      "Epoch 4/150\n",
      "5/5 [==============================] - 0s 24ms/step - loss: 0.2469 - acc: 0.9016 - val_loss: 0.2634 - val_acc: 0.8933\n",
      "Epoch 5/150\n",
      "5/5 [==============================] - 0s 25ms/step - loss: 0.2276 - acc: 0.9066 - val_loss: 0.2522 - val_acc: 0.9000\n",
      "Epoch 6/150\n",
      "5/5 [==============================] - 0s 24ms/step - loss: 0.2109 - acc: 0.9156 - val_loss: 0.2495 - val_acc: 0.9100\n",
      "Epoch 7/150\n",
      "5/5 [==============================] - 0s 25ms/step - loss: 0.1929 - acc: 0.9270 - val_loss: 0.2719 - val_acc: 0.9033\n",
      "Epoch 8/150\n",
      "5/5 [==============================] - 0s 23ms/step - loss: 0.1935 - acc: 0.9262 - val_loss: 0.2369 - val_acc: 0.9067\n",
      "Epoch 9/150\n",
      "5/5 [==============================] - 0s 25ms/step - loss: 0.1814 - acc: 0.9270 - val_loss: 0.2202 - val_acc: 0.9167\n",
      "Epoch 10/150\n",
      "5/5 [==============================] - 0s 21ms/step - loss: 0.1581 - acc: 0.9426 - val_loss: 0.1962 - val_acc: 0.9300\n",
      "Epoch 11/150\n",
      "5/5 [==============================] - 0s 37ms/step - loss: 0.1753 - acc: 0.9279 - val_loss: 0.2272 - val_acc: 0.9100\n",
      "Epoch 12/150\n",
      "5/5 [==============================] - 0s 22ms/step - loss: 0.1681 - acc: 0.9410 - val_loss: 0.2555 - val_acc: 0.9033\n",
      "Epoch 13/150\n",
      "5/5 [==============================] - 0s 22ms/step - loss: 0.1740 - acc: 0.9361 - val_loss: 0.2560 - val_acc: 0.8967\n",
      "Epoch 14/150\n",
      "5/5 [==============================] - 0s 25ms/step - loss: 0.1642 - acc: 0.9377 - val_loss: 0.2159 - val_acc: 0.9233\n",
      "Epoch 15/150\n",
      "5/5 [==============================] - 0s 23ms/step - loss: 0.1398 - acc: 0.9508 - val_loss: 0.1945 - val_acc: 0.9333\n",
      "Epoch 16/150\n",
      "5/5 [==============================] - 0s 22ms/step - loss: 0.1299 - acc: 0.9582 - val_loss: 0.2087 - val_acc: 0.9300\n",
      "Epoch 17/150\n",
      "5/5 [==============================] - 0s 22ms/step - loss: 0.1290 - acc: 0.9566 - val_loss: 0.1991 - val_acc: 0.9333\n",
      "Epoch 18/150\n",
      "5/5 [==============================] - 0s 22ms/step - loss: 0.1381 - acc: 0.9508 - val_loss: 0.2178 - val_acc: 0.9167\n",
      "Epoch 19/150\n",
      "5/5 [==============================] - 0s 22ms/step - loss: 0.1321 - acc: 0.9549 - val_loss: 0.1897 - val_acc: 0.9300\n",
      "Epoch 20/150\n",
      "5/5 [==============================] - 0s 22ms/step - loss: 0.1108 - acc: 0.9656 - val_loss: 0.1933 - val_acc: 0.9333\n",
      "Epoch 21/150\n",
      "5/5 [==============================] - 0s 23ms/step - loss: 0.1221 - acc: 0.9492 - val_loss: 0.1974 - val_acc: 0.9267\n",
      "Epoch 22/150\n",
      "5/5 [==============================] - 0s 22ms/step - loss: 0.1091 - acc: 0.9648 - val_loss: 0.2461 - val_acc: 0.9100\n",
      "Epoch 23/150\n",
      "5/5 [==============================] - 0s 22ms/step - loss: 0.1031 - acc: 0.9631 - val_loss: 0.2754 - val_acc: 0.9067\n",
      "Epoch 24/150\n",
      "5/5 [==============================] - 0s 22ms/step - loss: 0.1123 - acc: 0.9598 - val_loss: 0.2151 - val_acc: 0.9133\n",
      "Epoch 25/150\n",
      "5/5 [==============================] - 0s 20ms/step - loss: 0.0914 - acc: 0.9680 - val_loss: 0.2122 - val_acc: 0.9367\n",
      "Epoch 26/150\n",
      "5/5 [==============================] - 0s 22ms/step - loss: 0.0908 - acc: 0.9672 - val_loss: 0.2239 - val_acc: 0.9167\n",
      "Epoch 27/150\n",
      "5/5 [==============================] - 0s 22ms/step - loss: 0.0927 - acc: 0.9680 - val_loss: 0.1975 - val_acc: 0.9333\n",
      "Epoch 28/150\n",
      "5/5 [==============================] - 0s 22ms/step - loss: 0.0732 - acc: 0.9770 - val_loss: 0.1974 - val_acc: 0.9333\n",
      "Epoch 29/150\n",
      "5/5 [==============================] - 0s 26ms/step - loss: 0.0694 - acc: 0.9795 - val_loss: 0.1974 - val_acc: 0.9400\n",
      "Epoch 30/150\n",
      "5/5 [==============================] - 0s 28ms/step - loss: 0.0664 - acc: 0.9795 - val_loss: 0.1974 - val_acc: 0.9333\n",
      "Epoch 31/150\n",
      "5/5 [==============================] - 0s 28ms/step - loss: 0.0794 - acc: 0.9713 - val_loss: 0.2012 - val_acc: 0.9400\n",
      "Epoch 32/150\n",
      "5/5 [==============================] - 0s 41ms/step - loss: 0.0626 - acc: 0.9828 - val_loss: 0.2209 - val_acc: 0.9233\n",
      "Epoch 33/150\n",
      "5/5 [==============================] - 0s 42ms/step - loss: 0.0592 - acc: 0.9869 - val_loss: 0.2066 - val_acc: 0.9233\n",
      "Epoch 34/150\n",
      "5/5 [==============================] - 0s 23ms/step - loss: 0.0558 - acc: 0.9869 - val_loss: 0.2031 - val_acc: 0.9233\n",
      "Epoch 35/150\n",
      "5/5 [==============================] - 0s 25ms/step - loss: 0.0536 - acc: 0.9852 - val_loss: 0.2058 - val_acc: 0.9233\n",
      "Epoch 36/150\n",
      "5/5 [==============================] - 0s 22ms/step - loss: 0.0539 - acc: 0.9861 - val_loss: 0.2040 - val_acc: 0.9333\n",
      "Epoch 37/150\n",
      "5/5 [==============================] - 0s 22ms/step - loss: 0.0478 - acc: 0.9885 - val_loss: 0.2049 - val_acc: 0.9267\n",
      "Epoch 38/150\n",
      "5/5 [==============================] - 0s 22ms/step - loss: 0.0418 - acc: 0.9902 - val_loss: 0.2057 - val_acc: 0.9233\n",
      "Epoch 39/150\n",
      "5/5 [==============================] - 0s 22ms/step - loss: 0.0425 - acc: 0.9877 - val_loss: 0.2102 - val_acc: 0.9400\n",
      "Epoch 40/150\n",
      "5/5 [==============================] - 0s 22ms/step - loss: 0.0376 - acc: 0.9926 - val_loss: 0.2364 - val_acc: 0.9200\n",
      "Epoch 41/150\n",
      "5/5 [==============================] - 0s 23ms/step - loss: 0.0382 - acc: 0.9926 - val_loss: 0.2396 - val_acc: 0.9233\n",
      "Epoch 42/150\n",
      "5/5 [==============================] - 0s 22ms/step - loss: 0.0388 - acc: 0.9926 - val_loss: 0.2305 - val_acc: 0.9233\n",
      "Epoch 43/150\n",
      "5/5 [==============================] - 0s 22ms/step - loss: 0.0350 - acc: 0.9893 - val_loss: 0.2459 - val_acc: 0.9267\n",
      "Epoch 44/150\n",
      "5/5 [==============================] - 0s 27ms/step - loss: 0.0412 - acc: 0.9885 - val_loss: 0.2830 - val_acc: 0.9100\n",
      "Epoch 45/150\n",
      "5/5 [==============================] - 0s 22ms/step - loss: 0.0351 - acc: 0.9885 - val_loss: 0.2198 - val_acc: 0.9300\n",
      "Epoch 46/150\n",
      "5/5 [==============================] - 0s 21ms/step - loss: 0.0240 - acc: 0.9959 - val_loss: 0.2229 - val_acc: 0.9267\n",
      "Epoch 47/150\n",
      "5/5 [==============================] - 0s 23ms/step - loss: 0.0224 - acc: 0.9967 - val_loss: 0.2223 - val_acc: 0.9367\n",
      "Epoch 48/150\n",
      "5/5 [==============================] - 0s 22ms/step - loss: 0.0199 - acc: 0.9967 - val_loss: 0.2304 - val_acc: 0.9300\n",
      "Epoch 49/150\n",
      "5/5 [==============================] - 0s 22ms/step - loss: 0.0210 - acc: 0.9951 - val_loss: 0.2355 - val_acc: 0.9200\n",
      "Epoch 50/150\n",
      "5/5 [==============================] - 0s 22ms/step - loss: 0.0281 - acc: 0.9926 - val_loss: 0.2420 - val_acc: 0.9300\n",
      "Epoch 51/150\n",
      "5/5 [==============================] - 0s 22ms/step - loss: 0.0195 - acc: 0.9984 - val_loss: 0.2658 - val_acc: 0.9267\n",
      "Epoch 52/150\n",
      "5/5 [==============================] - 0s 22ms/step - loss: 0.0189 - acc: 0.9975 - val_loss: 0.2446 - val_acc: 0.9267\n",
      "Epoch 53/150\n",
      "5/5 [==============================] - 0s 22ms/step - loss: 0.0148 - acc: 0.9984 - val_loss: 0.2585 - val_acc: 0.9267\n",
      "Epoch 54/150\n",
      "5/5 [==============================] - 0s 39ms/step - loss: 0.0130 - acc: 0.9984 - val_loss: 0.2524 - val_acc: 0.9300\n",
      "Epoch 55/150\n",
      "5/5 [==============================] - 0s 23ms/step - loss: 0.0124 - acc: 0.9992 - val_loss: 0.2524 - val_acc: 0.9267\n",
      "Epoch 56/150\n",
      "5/5 [==============================] - 0s 23ms/step - loss: 0.0123 - acc: 0.9992 - val_loss: 0.2546 - val_acc: 0.9267\n",
      "Epoch 57/150\n",
      "5/5 [==============================] - 0s 20ms/step - loss: 0.0111 - acc: 0.9992 - val_loss: 0.2576 - val_acc: 0.9300\n",
      "Epoch 58/150\n",
      "5/5 [==============================] - 0s 20ms/step - loss: 0.0102 - acc: 0.9992 - val_loss: 0.2695 - val_acc: 0.9333\n",
      "Epoch 59/150\n",
      "5/5 [==============================] - 0s 23ms/step - loss: 0.0095 - acc: 0.9992 - val_loss: 0.2724 - val_acc: 0.9233\n",
      "Epoch 60/150\n",
      "5/5 [==============================] - 0s 20ms/step - loss: 0.0074 - acc: 1.0000 - val_loss: 0.3003 - val_acc: 0.9200\n",
      "Epoch 61/150\n",
      "5/5 [==============================] - 0s 21ms/step - loss: 0.0076 - acc: 1.0000 - val_loss: 0.3100 - val_acc: 0.9200\n",
      "Epoch 62/150\n",
      "5/5 [==============================] - 0s 23ms/step - loss: 0.0080 - acc: 1.0000 - val_loss: 0.2983 - val_acc: 0.9233\n",
      "Epoch 63/150\n",
      "5/5 [==============================] - 0s 23ms/step - loss: 0.0065 - acc: 1.0000 - val_loss: 0.2819 - val_acc: 0.9300\n",
      "Epoch 64/150\n",
      "5/5 [==============================] - 0s 24ms/step - loss: 0.0054 - acc: 1.0000 - val_loss: 0.3061 - val_acc: 0.9367\n",
      "Epoch 65/150\n",
      "5/5 [==============================] - 0s 22ms/step - loss: 0.0057 - acc: 1.0000 - val_loss: 0.3008 - val_acc: 0.9300\n",
      "Epoch 66/150\n",
      "5/5 [==============================] - 0s 22ms/step - loss: 0.0061 - acc: 0.9992 - val_loss: 0.3350 - val_acc: 0.9300\n",
      "Epoch 67/150\n",
      "5/5 [==============================] - 0s 20ms/step - loss: 0.0048 - acc: 1.0000 - val_loss: 0.3100 - val_acc: 0.9300\n",
      "Epoch 68/150\n",
      "5/5 [==============================] - 0s 20ms/step - loss: 0.0048 - acc: 1.0000 - val_loss: 0.3141 - val_acc: 0.9300\n",
      "Epoch 69/150\n",
      "5/5 [==============================] - 0s 23ms/step - loss: 0.0077 - acc: 0.9984 - val_loss: 0.3384 - val_acc: 0.9267\n",
      "Epoch 70/150\n",
      "5/5 [==============================] - 0s 22ms/step - loss: 0.0050 - acc: 1.0000 - val_loss: 0.3154 - val_acc: 0.9233\n",
      "Epoch 71/150\n",
      "5/5 [==============================] - 0s 23ms/step - loss: 0.0041 - acc: 1.0000 - val_loss: 0.3394 - val_acc: 0.9233\n",
      "Epoch 72/150\n",
      "5/5 [==============================] - 0s 23ms/step - loss: 0.0029 - acc: 1.0000 - val_loss: 0.3221 - val_acc: 0.9267\n",
      "Epoch 73/150\n",
      "5/5 [==============================] - 0s 23ms/step - loss: 0.0027 - acc: 1.0000 - val_loss: 0.3210 - val_acc: 0.9300\n",
      "Epoch 74/150\n",
      "5/5 [==============================] - 0s 23ms/step - loss: 0.0022 - acc: 1.0000 - val_loss: 0.3269 - val_acc: 0.9267\n",
      "Epoch 75/150\n",
      "5/5 [==============================] - 0s 20ms/step - loss: 0.0021 - acc: 1.0000 - val_loss: 0.3271 - val_acc: 0.9300\n",
      "Epoch 76/150\n",
      "5/5 [==============================] - 0s 22ms/step - loss: 0.0022 - acc: 1.0000 - val_loss: 0.3633 - val_acc: 0.9233\n",
      "Epoch 77/150\n",
      "5/5 [==============================] - 0s 23ms/step - loss: 0.0021 - acc: 1.0000 - val_loss: 0.3367 - val_acc: 0.9333\n",
      "Epoch 78/150\n",
      "5/5 [==============================] - 0s 23ms/step - loss: 0.0020 - acc: 1.0000 - val_loss: 0.3616 - val_acc: 0.9233\n",
      "Epoch 79/150\n",
      "5/5 [==============================] - 0s 21ms/step - loss: 0.0015 - acc: 1.0000 - val_loss: 0.3490 - val_acc: 0.9267\n",
      "Epoch 80/150\n",
      "5/5 [==============================] - 0s 23ms/step - loss: 0.0017 - acc: 1.0000 - val_loss: 0.3450 - val_acc: 0.9300\n",
      "Epoch 81/150\n",
      "5/5 [==============================] - 0s 20ms/step - loss: 0.0013 - acc: 1.0000 - val_loss: 0.3391 - val_acc: 0.9267\n",
      "Epoch 82/150\n",
      "5/5 [==============================] - 0s 23ms/step - loss: 0.0013 - acc: 1.0000 - val_loss: 0.3452 - val_acc: 0.9300\n",
      "Epoch 83/150\n",
      "5/5 [==============================] - 0s 22ms/step - loss: 0.0012 - acc: 1.0000 - val_loss: 0.3487 - val_acc: 0.9300\n",
      "Epoch 84/150\n",
      "5/5 [==============================] - 0s 23ms/step - loss: 0.0011 - acc: 1.0000 - val_loss: 0.3559 - val_acc: 0.9333\n",
      "Epoch 85/150\n",
      "5/5 [==============================] - 0s 22ms/step - loss: 0.0011 - acc: 1.0000 - val_loss: 0.3581 - val_acc: 0.9267\n",
      "Epoch 86/150\n",
      "5/5 [==============================] - 0s 23ms/step - loss: 0.0011 - acc: 1.0000 - val_loss: 0.3641 - val_acc: 0.9300\n",
      "Epoch 87/150\n",
      "5/5 [==============================] - 0s 23ms/step - loss: 9.7856e-04 - acc: 1.0000 - val_loss: 0.3606 - val_acc: 0.9267\n",
      "Epoch 88/150\n",
      "5/5 [==============================] - 0s 21ms/step - loss: 9.6025e-04 - acc: 1.0000 - val_loss: 0.3668 - val_acc: 0.9300\n",
      "Epoch 89/150\n",
      "5/5 [==============================] - 0s 35ms/step - loss: 9.1812e-04 - acc: 1.0000 - val_loss: 0.3667 - val_acc: 0.9267\n",
      "Epoch 90/150\n",
      "5/5 [==============================] - 0s 23ms/step - loss: 8.7786e-04 - acc: 1.0000 - val_loss: 0.3637 - val_acc: 0.9267\n",
      "Epoch 91/150\n",
      "5/5 [==============================] - 0s 27ms/step - loss: 8.5778e-04 - acc: 1.0000 - val_loss: 0.3676 - val_acc: 0.9333\n",
      "Epoch 92/150\n",
      "5/5 [==============================] - 0s 22ms/step - loss: 8.8183e-04 - acc: 1.0000 - val_loss: 0.3713 - val_acc: 0.9267\n",
      "Epoch 93/150\n",
      "5/5 [==============================] - 0s 30ms/step - loss: 7.9872e-04 - acc: 1.0000 - val_loss: 0.3724 - val_acc: 0.9267\n",
      "Epoch 94/150\n",
      "5/5 [==============================] - 0s 24ms/step - loss: 7.6484e-04 - acc: 1.0000 - val_loss: 0.3756 - val_acc: 0.9300\n",
      "Epoch 95/150\n",
      "5/5 [==============================] - 0s 23ms/step - loss: 7.5999e-04 - acc: 1.0000 - val_loss: 0.3741 - val_acc: 0.9267\n",
      "Epoch 96/150\n",
      "5/5 [==============================] - 0s 20ms/step - loss: 7.2621e-04 - acc: 1.0000 - val_loss: 0.3781 - val_acc: 0.9267\n",
      "Epoch 97/150\n",
      "5/5 [==============================] - 0s 23ms/step - loss: 6.9541e-04 - acc: 1.0000 - val_loss: 0.3822 - val_acc: 0.9300\n",
      "Epoch 98/150\n",
      "5/5 [==============================] - 0s 20ms/step - loss: 6.9166e-04 - acc: 1.0000 - val_loss: 0.3817 - val_acc: 0.9267\n",
      "Epoch 99/150\n",
      "5/5 [==============================] - 0s 24ms/step - loss: 6.6898e-04 - acc: 1.0000 - val_loss: 0.3832 - val_acc: 0.9267\n",
      "Epoch 100/150\n",
      "5/5 [==============================] - 0s 22ms/step - loss: 6.3939e-04 - acc: 1.0000 - val_loss: 0.3818 - val_acc: 0.9267\n",
      "Epoch 101/150\n",
      "5/5 [==============================] - 0s 22ms/step - loss: 6.1904e-04 - acc: 1.0000 - val_loss: 0.3878 - val_acc: 0.9300\n",
      "Epoch 102/150\n",
      "5/5 [==============================] - 0s 22ms/step - loss: 6.1259e-04 - acc: 1.0000 - val_loss: 0.3877 - val_acc: 0.9267\n",
      "Epoch 103/150\n",
      "5/5 [==============================] - 0s 23ms/step - loss: 6.0333e-04 - acc: 1.0000 - val_loss: 0.3869 - val_acc: 0.9267\n",
      "Epoch 104/150\n",
      "5/5 [==============================] - 0s 22ms/step - loss: 5.9883e-04 - acc: 1.0000 - val_loss: 0.3920 - val_acc: 0.9300\n",
      "Epoch 105/150\n",
      "5/5 [==============================] - 0s 20ms/step - loss: 5.5394e-04 - acc: 1.0000 - val_loss: 0.3881 - val_acc: 0.9267\n",
      "Epoch 106/150\n",
      "5/5 [==============================] - 0s 20ms/step - loss: 5.4387e-04 - acc: 1.0000 - val_loss: 0.3944 - val_acc: 0.9300\n",
      "Epoch 107/150\n",
      "5/5 [==============================] - 0s 23ms/step - loss: 5.5136e-04 - acc: 1.0000 - val_loss: 0.3962 - val_acc: 0.9267\n",
      "Epoch 108/150\n",
      "5/5 [==============================] - 0s 20ms/step - loss: 5.2189e-04 - acc: 1.0000 - val_loss: 0.3927 - val_acc: 0.9267\n",
      "Epoch 109/150\n",
      "5/5 [==============================] - 0s 23ms/step - loss: 4.9169e-04 - acc: 1.0000 - val_loss: 0.4025 - val_acc: 0.9333\n",
      "Epoch 110/150\n",
      "5/5 [==============================] - 0s 24ms/step - loss: 5.2061e-04 - acc: 1.0000 - val_loss: 0.3982 - val_acc: 0.9267\n",
      "Epoch 111/150\n",
      "5/5 [==============================] - 0s 23ms/step - loss: 4.9023e-04 - acc: 1.0000 - val_loss: 0.4012 - val_acc: 0.9267\n",
      "Epoch 112/150\n",
      "5/5 [==============================] - 0s 20ms/step - loss: 4.6463e-04 - acc: 1.0000 - val_loss: 0.4012 - val_acc: 0.9267\n",
      "Epoch 113/150\n",
      "5/5 [==============================] - 0s 25ms/step - loss: 4.4225e-04 - acc: 1.0000 - val_loss: 0.4000 - val_acc: 0.9267\n",
      "Epoch 114/150\n",
      "5/5 [==============================] - 0s 23ms/step - loss: 4.3975e-04 - acc: 1.0000 - val_loss: 0.4047 - val_acc: 0.9267\n",
      "Epoch 115/150\n",
      "5/5 [==============================] - 0s 20ms/step - loss: 4.2922e-04 - acc: 1.0000 - val_loss: 0.4102 - val_acc: 0.9300\n",
      "Epoch 116/150\n",
      "5/5 [==============================] - 0s 20ms/step - loss: 4.2626e-04 - acc: 1.0000 - val_loss: 0.4033 - val_acc: 0.9267\n",
      "Epoch 117/150\n",
      "5/5 [==============================] - 0s 23ms/step - loss: 4.0533e-04 - acc: 1.0000 - val_loss: 0.4080 - val_acc: 0.9300\n",
      "Epoch 118/150\n",
      "5/5 [==============================] - 0s 25ms/step - loss: 3.9491e-04 - acc: 1.0000 - val_loss: 0.4107 - val_acc: 0.9267\n",
      "Epoch 119/150\n",
      "5/5 [==============================] - 0s 38ms/step - loss: 3.8706e-04 - acc: 1.0000 - val_loss: 0.4127 - val_acc: 0.9267\n",
      "Epoch 120/150\n",
      "5/5 [==============================] - 0s 26ms/step - loss: 3.7605e-04 - acc: 1.0000 - val_loss: 0.4141 - val_acc: 0.9267\n",
      "Epoch 121/150\n",
      "5/5 [==============================] - 0s 24ms/step - loss: 3.6504e-04 - acc: 1.0000 - val_loss: 0.4153 - val_acc: 0.9267\n",
      "Epoch 122/150\n",
      "5/5 [==============================] - 0s 23ms/step - loss: 3.5662e-04 - acc: 1.0000 - val_loss: 0.4156 - val_acc: 0.9267\n",
      "Epoch 123/150\n",
      "5/5 [==============================] - 0s 23ms/step - loss: 3.4859e-04 - acc: 1.0000 - val_loss: 0.4168 - val_acc: 0.9267\n",
      "Epoch 124/150\n",
      "5/5 [==============================] - 0s 22ms/step - loss: 3.4381e-04 - acc: 1.0000 - val_loss: 0.4186 - val_acc: 0.9267\n",
      "Epoch 125/150\n",
      "5/5 [==============================] - 0s 30ms/step - loss: 3.3805e-04 - acc: 1.0000 - val_loss: 0.4168 - val_acc: 0.9267\n",
      "Epoch 126/150\n",
      "5/5 [==============================] - 0s 21ms/step - loss: 3.2732e-04 - acc: 1.0000 - val_loss: 0.4219 - val_acc: 0.9300\n",
      "Epoch 127/150\n",
      "5/5 [==============================] - 0s 22ms/step - loss: 3.2629e-04 - acc: 1.0000 - val_loss: 0.4205 - val_acc: 0.9267\n",
      "Epoch 128/150\n",
      "5/5 [==============================] - 0s 20ms/step - loss: 3.1622e-04 - acc: 1.0000 - val_loss: 0.4251 - val_acc: 0.9267\n",
      "Epoch 129/150\n",
      "5/5 [==============================] - 0s 22ms/step - loss: 3.0432e-04 - acc: 1.0000 - val_loss: 0.4226 - val_acc: 0.9267\n",
      "Epoch 130/150\n",
      "5/5 [==============================] - 0s 23ms/step - loss: 2.9770e-04 - acc: 1.0000 - val_loss: 0.4244 - val_acc: 0.9267\n",
      "Epoch 131/150\n",
      "5/5 [==============================] - 0s 20ms/step - loss: 2.9340e-04 - acc: 1.0000 - val_loss: 0.4263 - val_acc: 0.9267\n",
      "Epoch 132/150\n",
      "5/5 [==============================] - 0s 23ms/step - loss: 2.8827e-04 - acc: 1.0000 - val_loss: 0.4259 - val_acc: 0.9267\n",
      "Epoch 133/150\n",
      "5/5 [==============================] - 0s 23ms/step - loss: 2.7783e-04 - acc: 1.0000 - val_loss: 0.4298 - val_acc: 0.9267\n",
      "Epoch 134/150\n",
      "5/5 [==============================] - 0s 23ms/step - loss: 2.7587e-04 - acc: 1.0000 - val_loss: 0.4304 - val_acc: 0.9300\n",
      "Epoch 135/150\n",
      "5/5 [==============================] - 0s 20ms/step - loss: 2.7022e-04 - acc: 1.0000 - val_loss: 0.4291 - val_acc: 0.9267\n",
      "Epoch 136/150\n",
      "5/5 [==============================] - 0s 20ms/step - loss: 2.6374e-04 - acc: 1.0000 - val_loss: 0.4318 - val_acc: 0.9267\n",
      "Epoch 137/150\n",
      "5/5 [==============================] - 0s 23ms/step - loss: 2.6320e-04 - acc: 1.0000 - val_loss: 0.4332 - val_acc: 0.9267\n",
      "Epoch 138/150\n",
      "5/5 [==============================] - 0s 22ms/step - loss: 2.5440e-04 - acc: 1.0000 - val_loss: 0.4315 - val_acc: 0.9267\n",
      "Epoch 139/150\n",
      "5/5 [==============================] - 0s 22ms/step - loss: 2.5009e-04 - acc: 1.0000 - val_loss: 0.4357 - val_acc: 0.9267\n",
      "Epoch 140/150\n",
      "5/5 [==============================] - 0s 24ms/step - loss: 2.4272e-04 - acc: 1.0000 - val_loss: 0.4348 - val_acc: 0.9267\n",
      "Epoch 141/150\n",
      "5/5 [==============================] - 0s 21ms/step - loss: 2.3748e-04 - acc: 1.0000 - val_loss: 0.4386 - val_acc: 0.9267\n",
      "Epoch 142/150\n",
      "5/5 [==============================] - 0s 22ms/step - loss: 2.3238e-04 - acc: 1.0000 - val_loss: 0.4378 - val_acc: 0.9267\n",
      "Epoch 143/150\n",
      "5/5 [==============================] - 0s 23ms/step - loss: 2.2775e-04 - acc: 1.0000 - val_loss: 0.4373 - val_acc: 0.9267\n",
      "Epoch 144/150\n",
      "5/5 [==============================] - 0s 23ms/step - loss: 2.2212e-04 - acc: 1.0000 - val_loss: 0.4406 - val_acc: 0.9267\n",
      "Epoch 145/150\n",
      "5/5 [==============================] - 0s 23ms/step - loss: 2.1723e-04 - acc: 1.0000 - val_loss: 0.4406 - val_acc: 0.9267\n",
      "Epoch 146/150\n",
      "5/5 [==============================] - 0s 40ms/step - loss: 2.1480e-04 - acc: 1.0000 - val_loss: 0.4414 - val_acc: 0.9267\n",
      "Epoch 147/150\n",
      "5/5 [==============================] - 0s 34ms/step - loss: 2.1046e-04 - acc: 1.0000 - val_loss: 0.4455 - val_acc: 0.9267\n",
      "Epoch 148/150\n",
      "5/5 [==============================] - 0s 37ms/step - loss: 2.0590e-04 - acc: 1.0000 - val_loss: 0.4431 - val_acc: 0.9267\n",
      "Epoch 149/150\n",
      "5/5 [==============================] - 0s 29ms/step - loss: 2.0710e-04 - acc: 1.0000 - val_loss: 0.4459 - val_acc: 0.9267\n",
      "Epoch 150/150\n",
      "5/5 [==============================] - 0s 23ms/step - loss: 1.9728e-04 - acc: 1.0000 - val_loss: 0.4456 - val_acc: 0.9267\n",
      "\n",
      "\n",
      "\n",
      "39/39 [==============================] - 0s 3ms/step - loss: 1.9544e-04 - acc: 1.0000\n",
      "12/12 [==============================] - 0s 3ms/step - loss: 0.8751 - acc: 0.8763\n",
      "Train: [0.0001954360050149262, 1.0] || Test: [0.8750649690628052, 0.8763157725334167]\n"
     ]
    }
   ],
   "source": [
    "model.compile(optimizer=Adam(learning_rate=0.001),metrics=['acc'],loss='binary_crossentropy')\n",
    "results = model.fit(\n",
    "                    train_img,\n",
    "                    train_y,\n",
    "                    epochs=150,\n",
    "                    batch_size=256,\n",
    "                    validation_data=(val_img,val_y)\n",
    "            )\n",
    "print('\\n\\n')\n",
    "acc1 = model.evaluate(train_img,train_y)\n",
    "acc2 = model.evaluate(test_img,test_y)\n",
    "print((f'Train: {acc1} || Test: {acc2}'))"
   ]
  },
  {
   "cell_type": "code",
   "execution_count": 12,
   "id": "dd0c41e9-4059-4699-bc9b-e07018e0016d",
   "metadata": {
    "scrolled": true
   },
   "outputs": [
    {
     "data": {
      "image/png": "[encoded data removed]",
      "text/plain": [
       "<Figure size 640x480 with 1 Axes>"
      ]
     },
     "metadata": {},
     "output_type": "display_data"
    },
    {
     "data": {
      "image/png": "[encoded data removed]",
      "text/plain": [
       "<Figure size 640x480 with 1 Axes>"
      ]
     },
     "metadata": {},
     "output_type": "display_data"
    }
   ],
   "source": [
    "def visualize_training_results(results):\n",
    "    plt.figure()\n",
    "    plt.plot(results.history['val_loss'])\n",
    "    plt.plot(results.history['loss'])\n",
    "    plt.legend(['val_loss', 'loss'])\n",
    "    plt.title('Loss')\n",
    "    plt.xlabel('Epochs')\n",
    "    plt.ylabel('Loss')\n",
    "    plt.show()\n",
    "    \n",
    "    plt.figure()\n",
    "    plt.plot(results.history['val_acc'])\n",
    "    plt.plot(results.history['acc'])\n",
    "    plt.legend(['val_acc', 'acc'])\n",
    "    plt.title('Accuracy')\n",
    "    plt.xlabel('Epochs')\n",
    "    plt.ylabel('Accuracy')\n",
    "    plt.show()\n",
    "\n",
    "\n",
    "visualize_training_results(results)"
   ]
  },
  {
   "cell_type": "code",
   "execution_count": 13,
   "id": "bc4cfc1b-4547-471e-bce5-26375a404a44",
   "metadata": {},
   "outputs": [],
   "source": [
    "cnn_model = models.Sequential()\n",
    "\n",
    "cnn_model.add(layers.Conv2D(32 , (3,3) , activation='relu' , input_shape=(64,64,3)))\n",
    "cnn_model.add(layers.MaxPool2D((2,2)))\n",
    "\n",
    "cnn_model.add(layers.Conv2D(64 , (4,4) , activation='relu'))\n",
    "cnn_model.add(layers.MaxPool2D((2,2)))\n",
    "\n",
    "cnn_model.add(layers.Conv2D(128 , (3,3) , activation='relu'))\n",
    "cnn_model.add(layers.MaxPool2D((2,2)))\n",
    "\n",
    "cnn_model.add(layers.Conv2D(256 , (3,3) , activation='relu'))\n",
    "cnn_model.add(layers.MaxPool2D((2,2)))\n",
    "\n",
    "cnn_model.add(layers.Flatten())\n",
    "cnn_model.add(layers.Dense(64, activation='relu'))\n",
    "cnn_model.add(layers.Dense(1, activation='sigmoid'))"
   ]
  },
  {
   "cell_type": "code",
   "execution_count": 14,
   "id": "97dc9ea1-1403-4110-8279-f22219be193d",
   "metadata": {},
   "outputs": [],
   "source": [
    "# Compile the model\n",
    "cnn_model.compile(optimizer=Adam(learning_rate=0.001),loss='binary_crossentropy',metrics=['acc'])"
   ]
  },
  {
   "cell_type": "code",
   "execution_count": 15,
   "id": "8dda8dbc-b301-4649-9f3f-ff9b2795ff04",
   "metadata": {
    "scrolled": true
   },
   "outputs": [
    {
     "name": "stdout",
     "output_type": "stream",
     "text": [
      "Epoch 1/35\n",
      "5/5 [==============================] - 4s 831ms/step - loss: 0.5816 - acc: 0.7615 - val_loss: 0.3016 - val_acc: 0.8767\n",
      "Epoch 2/35\n",
      "5/5 [==============================] - 4s 851ms/step - loss: 0.2493 - acc: 0.9033 - val_loss: 0.3788 - val_acc: 0.8567\n",
      "Epoch 3/35\n",
      "5/5 [==============================] - 5s 1s/step - loss: 0.2458 - acc: 0.9139 - val_loss: 0.2851 - val_acc: 0.8833\n",
      "Epoch 4/35\n",
      "5/5 [==============================] - 5s 1s/step - loss: 0.1970 - acc: 0.9213 - val_loss: 0.1696 - val_acc: 0.9400\n",
      "Epoch 5/35\n",
      "5/5 [==============================] - 5s 1000ms/step - loss: 0.1454 - acc: 0.9525 - val_loss: 0.1642 - val_acc: 0.9400\n",
      "Epoch 6/35\n",
      "5/5 [==============================] - 5s 909ms/step - loss: 0.1170 - acc: 0.9623 - val_loss: 0.1600 - val_acc: 0.9500\n",
      "Epoch 7/35\n",
      "5/5 [==============================] - 5s 976ms/step - loss: 0.1107 - acc: 0.9639 - val_loss: 0.1636 - val_acc: 0.9367\n",
      "Epoch 8/35\n",
      "5/5 [==============================] - 5s 921ms/step - loss: 0.1089 - acc: 0.9631 - val_loss: 0.1441 - val_acc: 0.9533\n",
      "Epoch 9/35\n",
      "5/5 [==============================] - 4s 896ms/step - loss: 0.1022 - acc: 0.9680 - val_loss: 0.1683 - val_acc: 0.9400\n",
      "Epoch 10/35\n",
      "5/5 [==============================] - 5s 910ms/step - loss: 0.0962 - acc: 0.9680 - val_loss: 0.1301 - val_acc: 0.9567\n",
      "Epoch 11/35\n",
      "5/5 [==============================] - 5s 1s/step - loss: 0.0864 - acc: 0.9721 - val_loss: 0.1278 - val_acc: 0.9567\n",
      "Epoch 12/35\n",
      "5/5 [==============================] - 6s 1s/step - loss: 0.0819 - acc: 0.9721 - val_loss: 0.1325 - val_acc: 0.9600\n",
      "Epoch 13/35\n",
      "5/5 [==============================] - 4s 897ms/step - loss: 0.0816 - acc: 0.9779 - val_loss: 0.1418 - val_acc: 0.9467\n",
      "Epoch 14/35\n",
      "5/5 [==============================] - 4s 870ms/step - loss: 0.0813 - acc: 0.9738 - val_loss: 0.1277 - val_acc: 0.9567\n",
      "Epoch 15/35\n",
      "5/5 [==============================] - 5s 906ms/step - loss: 0.0727 - acc: 0.9754 - val_loss: 0.1106 - val_acc: 0.9633\n",
      "Epoch 16/35\n",
      "5/5 [==============================] - 5s 918ms/step - loss: 0.0643 - acc: 0.9787 - val_loss: 0.1005 - val_acc: 0.9700\n",
      "Epoch 17/35\n",
      "5/5 [==============================] - 4s 876ms/step - loss: 0.0619 - acc: 0.9779 - val_loss: 0.1006 - val_acc: 0.9667\n",
      "Epoch 18/35\n",
      "5/5 [==============================] - 4s 878ms/step - loss: 0.0613 - acc: 0.9795 - val_loss: 0.0963 - val_acc: 0.9700\n",
      "Epoch 19/35\n",
      "5/5 [==============================] - 4s 867ms/step - loss: 0.0565 - acc: 0.9811 - val_loss: 0.0947 - val_acc: 0.9700\n",
      "Epoch 20/35\n",
      "5/5 [==============================] - 4s 869ms/step - loss: 0.0565 - acc: 0.9836 - val_loss: 0.1011 - val_acc: 0.9700\n",
      "Epoch 21/35\n",
      "5/5 [==============================] - 4s 820ms/step - loss: 0.0539 - acc: 0.9836 - val_loss: 0.1125 - val_acc: 0.9667\n",
      "Epoch 22/35\n",
      "5/5 [==============================] - 4s 886ms/step - loss: 0.0477 - acc: 0.9852 - val_loss: 0.0922 - val_acc: 0.9733\n",
      "Epoch 23/35\n",
      "5/5 [==============================] - 5s 959ms/step - loss: 0.0520 - acc: 0.9852 - val_loss: 0.1610 - val_acc: 0.9500\n",
      "Epoch 24/35\n",
      "5/5 [==============================] - 5s 954ms/step - loss: 0.0748 - acc: 0.9713 - val_loss: 0.1020 - val_acc: 0.9667\n",
      "Epoch 25/35\n",
      "5/5 [==============================] - 4s 855ms/step - loss: 0.0772 - acc: 0.9746 - val_loss: 0.1519 - val_acc: 0.9500\n",
      "Epoch 26/35\n",
      "5/5 [==============================] - 5s 957ms/step - loss: 0.0661 - acc: 0.9746 - val_loss: 0.1232 - val_acc: 0.9533\n",
      "Epoch 27/35\n",
      "5/5 [==============================] - 4s 897ms/step - loss: 0.0473 - acc: 0.9852 - val_loss: 0.1128 - val_acc: 0.9567\n",
      "Epoch 28/35\n",
      "5/5 [==============================] - 4s 883ms/step - loss: 0.0426 - acc: 0.9861 - val_loss: 0.1033 - val_acc: 0.9667\n",
      "Epoch 29/35\n",
      "5/5 [==============================] - 4s 875ms/step - loss: 0.0360 - acc: 0.9885 - val_loss: 0.0851 - val_acc: 0.9733\n",
      "Epoch 30/35\n",
      "5/5 [==============================] - 4s 892ms/step - loss: 0.0297 - acc: 0.9902 - val_loss: 0.0866 - val_acc: 0.9700\n",
      "Epoch 31/35\n",
      "5/5 [==============================] - 4s 896ms/step - loss: 0.0267 - acc: 0.9910 - val_loss: 0.0901 - val_acc: 0.9700\n",
      "Epoch 32/35\n",
      "5/5 [==============================] - 5s 1s/step - loss: 0.0233 - acc: 0.9918 - val_loss: 0.0955 - val_acc: 0.9700\n",
      "Epoch 33/35\n",
      "5/5 [==============================] - 5s 921ms/step - loss: 0.0210 - acc: 0.9934 - val_loss: 0.0849 - val_acc: 0.9733\n",
      "Epoch 34/35\n",
      "5/5 [==============================] - 4s 838ms/step - loss: 0.0152 - acc: 0.9943 - val_loss: 0.0929 - val_acc: 0.9767\n",
      "Epoch 35/35\n",
      "5/5 [==============================] - 4s 844ms/step - loss: 0.0167 - acc: 0.9951 - val_loss: 0.1060 - val_acc: 0.9733\n"
     ]
    }
   ],
   "source": [
    "results2 = cnn_model.fit(\n",
    "        train_images,\n",
    "        train_y,\n",
    "        epochs = 35,\n",
    "        batch_size = 256,\n",
    "        validation_data=(val_images,val_y)\n",
    "    )"
   ]
  },
  {
   "cell_type": "code",
   "execution_count": 16,
   "id": "715e4b92-a29e-4e61-9edd-e3d5c03984ca",
   "metadata": {},
   "outputs": [
    {
     "name": "stdout",
     "output_type": "stream",
     "text": [
      "39/39 [==============================] - 1s 34ms/step - loss: 0.0176 - acc: 0.9943\n",
      "12/12 [==============================] - 0s 30ms/step - loss: 0.2767 - acc: 0.9421\n",
      "Train: [0.017579499632120132, 0.9942622780799866]\n",
      "Test: [0.27669858932495117, 0.942105233669281]\n"
     ]
    }
   ],
   "source": [
    "acc1 = cnn_model.evaluate(train_images,train_y)\n",
    "acc2 = cnn_model.evaluate(test_images,test_y)\n",
    "print((f'Train: {acc1}\\nTest: {acc2}'))"
   ]
  },
  {
   "cell_type": "code",
   "execution_count": 17,
   "id": "17e4e6b8-9798-4ecc-bf14-d937dc2b2d72",
   "metadata": {
    "scrolled": true
   },
   "outputs": [
    {
     "data": {
      "image/png": "[encoded data removed]",
      "text/plain": [
       "<Figure size 640x480 with 1 Axes>"
      ]
     },
     "metadata": {},
     "output_type": "display_data"
    },
    {
     "data": {
      "image/png": "[encoded data removed]",
      "text/plain": [
       "<Figure size 640x480 with 1 Axes>"
      ]
     },
     "metadata": {},
     "output_type": "display_data"
    }
   ],
   "source": [
    "def visualize_training_results(results):\n",
    "    plt.figure()\n",
    "    plt.plot(results.history['val_loss'])\n",
    "    plt.plot(results.history['loss'])\n",
    "    plt.legend(['val_loss', 'loss'])\n",
    "    plt.title('Loss')\n",
    "    plt.xlabel('Epochs')\n",
    "    plt.ylabel('Loss')\n",
    "    plt.show()\n",
    "    \n",
    "    plt.figure()\n",
    "    plt.plot(results.history['val_acc'])\n",
    "    plt.plot(results.history['acc'])\n",
    "    plt.legend(['val_acc', 'acc'])\n",
    "    plt.title('Accuracy')\n",
    "    plt.xlabel('Epochs')\n",
    "    plt.ylabel('Accuracy')\n",
    "    plt.show()\n",
    "\n",
    "\n",
    "visualize_training_results(results2)"
   ]
  },
  {
   "cell_type": "code",
   "execution_count": 18,
   "id": "ae0bee62-247c-46ee-a4d8-e4c26b890f28",
   "metadata": {},
   "outputs": [
    {
     "name": "stdout",
     "output_type": "stream",
     "text": [
      "Found 1220 images belonging to 2 classes.\n",
      "Found 380 images belonging to 2 classes.\n",
      "Found 300 images belonging to 2 classes.\n"
     ]
    }
   ],
   "source": [
    "train_new_gen = ImageDataGenerator(rescale=1./255, \n",
    "                                   rotation_range=40, \n",
    "                                   width_shift_range=0.2, \n",
    "                                   height_shift_range=0.2, \n",
    "                                   shear_range=0.3, \n",
    "                                   zoom_range=0.1, \n",
    "                                   horizontal_flip=False)\n",
    "\n",
    "train_generator = train_new_gen.flow_from_directory(\n",
    "    train_folder,\n",
    "    target_size=(64,64),\n",
    "    batch_size=1220,\n",
    "    class_mode = 'binary'\n",
    "    )\n",
    "\n",
    "test_generator = ImageDataGenerator(rescale=1./255).flow_from_directory(\n",
    "    test_folder,\n",
    "    target_size=(64,64),\n",
    "    batch_size=380,\n",
    "    class_mode = 'binary'\n",
    ")\n",
    "\n",
    "val_generator = ImageDataGenerator(rescale=1./255).flow_from_directory(\n",
    "    val_folder,\n",
    "    target_size=(64,64),\n",
    "    batch_size=300,\n",
    "    class_mode = 'binary'\n",
    ")"
   ]
  },
  {
   "cell_type": "code",
   "execution_count": 19,
   "id": "ba106946-1590-46f5-a70c-406364aaf923",
   "metadata": {},
   "outputs": [],
   "source": [
    "aug = models.Sequential()\n",
    "aug.add(layers.Conv2D(32 , (3,3) , activation='relu' , input_shape=(64,64,3)))\n",
    "aug.add(layers.MaxPool2D((2,2)))\n",
    "\n",
    "aug.add(layers.Conv2D(64 , (4,4) , activation='relu'))\n",
    "aug.add(layers.MaxPool2D((2,2)))\n",
    "\n",
    "aug.add(layers.Conv2D(128 , (3,3) , activation='relu'))\n",
    "aug.add(layers.MaxPool2D((2,2)))\n",
    "\n",
    "aug.add(layers.Conv2D(256 , (3,3) , activation='relu'))\n",
    "aug.add(layers.MaxPool2D((2,2)))\n",
    "\n",
    "aug.add(layers.Flatten())\n",
    "aug.add(layers.Dense(64, activation='relu'))\n",
    "aug.add(layers.Dense(1, activation='sigmoid'))"
   ]
  },
  {
   "cell_type": "code",
   "execution_count": 20,
   "id": "2c665ed2-b8bf-4770-beb0-c6f26ae4f044",
   "metadata": {},
   "outputs": [],
   "source": [
    "aug.compile(optimizer='sgd',loss='binary_crossentropy',metrics=['acc'])"
   ]
  },
  {
   "cell_type": "code",
   "execution_count": 21,
   "id": "b58fb2b8-8540-45a6-bfd6-8cba0b13a5bb",
   "metadata": {
    "scrolled": true
   },
   "outputs": [
    {
     "name": "stdout",
     "output_type": "stream",
     "text": [
      "Epoch 1/30\n",
      "1/1 [==============================] - 22s 22s/step - loss: 0.6958 - acc: 0.3418 - val_loss: 0.6947 - val_acc: 0.4033\n",
      "Epoch 2/30\n",
      "1/1 [==============================] - 4s 4s/step - loss: 0.6948 - acc: 0.3828 - val_loss: 0.6938 - val_acc: 0.4567\n",
      "Epoch 3/30\n",
      "1/1 [==============================] - 1s 750ms/step - loss: 0.6942 - acc: 0.4492 - val_loss: 0.6930 - val_acc: 0.5033\n",
      "Epoch 4/30\n",
      "1/1 [==============================] - 1s 875ms/step - loss: 0.6933 - acc: 0.5025 - val_loss: 0.6922 - val_acc: 0.5300\n",
      "Epoch 5/30\n",
      "1/1 [==============================] - 1s 684ms/step - loss: 0.6926 - acc: 0.5221 - val_loss: 0.6914 - val_acc: 0.5500\n",
      "Epoch 6/30\n",
      "1/1 [==============================] - 1s 703ms/step - loss: 0.6922 - acc: 0.5590 - val_loss: 0.6906 - val_acc: 0.5633\n",
      "Epoch 7/30\n",
      "1/1 [==============================] - 1s 703ms/step - loss: 0.6912 - acc: 0.5910 - val_loss: 0.6898 - val_acc: 0.5800\n",
      "Epoch 8/30\n",
      "1/1 [==============================] - 1s 764ms/step - loss: 0.6904 - acc: 0.6107 - val_loss: 0.6890 - val_acc: 0.6067\n",
      "Epoch 9/30\n",
      "1/1 [==============================] - 1s 722ms/step - loss: 0.6895 - acc: 0.6205 - val_loss: 0.6883 - val_acc: 0.6133\n",
      "Epoch 10/30\n",
      "1/1 [==============================] - 1s 703ms/step - loss: 0.6893 - acc: 0.6164 - val_loss: 0.6875 - val_acc: 0.6033\n",
      "Epoch 11/30\n",
      "1/1 [==============================] - 1s 689ms/step - loss: 0.6886 - acc: 0.6279 - val_loss: 0.6868 - val_acc: 0.6000\n",
      "Epoch 12/30\n",
      "1/1 [==============================] - 1s 717ms/step - loss: 0.6877 - acc: 0.6344 - val_loss: 0.6860 - val_acc: 0.6100\n",
      "Epoch 13/30\n",
      "1/1 [==============================] - 1s 680ms/step - loss: 0.6871 - acc: 0.6295 - val_loss: 0.6853 - val_acc: 0.6200\n",
      "Epoch 14/30\n",
      "1/1 [==============================] - 1s 703ms/step - loss: 0.6862 - acc: 0.6434 - val_loss: 0.6845 - val_acc: 0.6200\n",
      "Epoch 15/30\n",
      "1/1 [==============================] - 1s 684ms/step - loss: 0.6857 - acc: 0.6361 - val_loss: 0.6837 - val_acc: 0.6233\n",
      "Epoch 16/30\n",
      "1/1 [==============================] - 1s 700ms/step - loss: 0.6847 - acc: 0.6508 - val_loss: 0.6830 - val_acc: 0.6333\n",
      "Epoch 17/30\n",
      "1/1 [==============================] - 1s 1s/step - loss: 0.6843 - acc: 0.6516 - val_loss: 0.6822 - val_acc: 0.6333\n",
      "Epoch 18/30\n",
      "1/1 [==============================] - 1s 699ms/step - loss: 0.6833 - acc: 0.6590 - val_loss: 0.6814 - val_acc: 0.6467\n",
      "Epoch 19/30\n",
      "1/1 [==============================] - 1s 684ms/step - loss: 0.6829 - acc: 0.6639 - val_loss: 0.6806 - val_acc: 0.6500\n",
      "Epoch 20/30\n",
      "1/1 [==============================] - 1s 687ms/step - loss: 0.6819 - acc: 0.6664 - val_loss: 0.6798 - val_acc: 0.6633\n",
      "Epoch 21/30\n",
      "1/1 [==============================] - 1s 667ms/step - loss: 0.6814 - acc: 0.6680 - val_loss: 0.6789 - val_acc: 0.6767\n",
      "Epoch 22/30\n",
      "1/1 [==============================] - 1s 684ms/step - loss: 0.6804 - acc: 0.6877 - val_loss: 0.6781 - val_acc: 0.6867\n",
      "Epoch 23/30\n",
      "1/1 [==============================] - 1s 668ms/step - loss: 0.6800 - acc: 0.7008 - val_loss: 0.6772 - val_acc: 0.6967\n",
      "Epoch 24/30\n",
      "1/1 [==============================] - 1s 656ms/step - loss: 0.6790 - acc: 0.7074 - val_loss: 0.6763 - val_acc: 0.7100\n",
      "Epoch 25/30\n",
      "1/1 [==============================] - 1s 684ms/step - loss: 0.6780 - acc: 0.7156 - val_loss: 0.6754 - val_acc: 0.7133\n",
      "Epoch 26/30\n",
      "1/1 [==============================] - 1s 668ms/step - loss: 0.6773 - acc: 0.7180 - val_loss: 0.6744 - val_acc: 0.7267\n",
      "Epoch 27/30\n",
      "1/1 [==============================] - 1s 680ms/step - loss: 0.6768 - acc: 0.7230 - val_loss: 0.6734 - val_acc: 0.7367\n",
      "Epoch 28/30\n",
      "1/1 [==============================] - 1s 650ms/step - loss: 0.6757 - acc: 0.7287 - val_loss: 0.6724 - val_acc: 0.7467\n",
      "Epoch 29/30\n",
      "1/1 [==============================] - 1s 766ms/step - loss: 0.6744 - acc: 0.7484 - val_loss: 0.6713 - val_acc: 0.7533\n",
      "Epoch 30/30\n",
      "1/1 [==============================] - 1s 651ms/step - loss: 0.6736 - acc: 0.7516 - val_loss: 0.6702 - val_acc: 0.7500\n"
     ]
    },
    {
     "data": {
      "text/plain": [
       "<tensorflow.python.keras.callbacks.History at 0x13873d65220>"
      ]
     },
     "execution_count": 21,
     "metadata": {},
     "output_type": "execute_result"
    }
   ],
   "source": [
    "aug.fit(\n",
    "    train_generator,\n",
    "    epochs=30,\n",
    "    validation_data = val_generator\n",
    ")"
   ]
  },
  {
   "cell_type": "code",
   "execution_count": 22,
   "id": "cf0ceade-a79f-437b-b5c4-ad05c2d4d81c",
   "metadata": {},
   "outputs": [
    {
     "name": "stdout",
     "output_type": "stream",
     "text": [
      "1/1 [==============================] - 0s 0s/step - loss: 0.6728 - acc: 0.7451\n",
      "1/1 [==============================] - 0s 0s/step - loss: 0.6741 - acc: 0.7158\n",
      "Train: [0.672831118106842, 0.7450819611549377]\n",
      "Test: [0.6740990877151489, 0.7157894968986511]\n"
     ]
    }
   ],
   "source": [
    "acc1 = aug.evaluate(train_generator)\n",
    "acc2 = aug.evaluate(test_generator)\n",
    "print((f'Train: {acc1}\\nTest: {acc2}'))"
   ]
  },
  {
   "cell_type": "markdown",
   "id": "05cd375a-45f5-4dc4-9d38-57a2866c89ff",
   "metadata": {},
   "source": [
    "#### Out of the three Models , the results of the cnn_model without augmentation are promising, indicating that the model has learned meaningful patterns from the training data and can make accurate predictions on new instances.\n"
   ]
  },
  {
   "cell_type": "code",
   "execution_count": 23,
   "id": "21f780e3-af07-46e2-b8ce-e108f3ffa2de",
   "metadata": {},
   "outputs": [
    {
     "name": "stdout",
     "output_type": "stream",
     "text": [
      "Model saved successfully!\n"
     ]
    }
   ],
   "source": [
    "# Saving the model\n",
    "cnn_model.save('dep_model.h5')\n",
    "print(\"Model saved successfully!\")"
   ]
  },
  {
   "cell_type": "code",
   "execution_count": 25,
   "id": "d5be88d9-4103-4a9e-89d3-39bb60d1eb90",
   "metadata": {},
   "outputs": [
    {
     "name": "stdout",
     "output_type": "stream",
     "text": [
      "Model: \"sequential_1\"\n",
      "_________________________________________________________________\n",
      "Layer (type)                 Output Shape              Param #   \n",
      "=================================================================\n",
      "conv2d (Conv2D)              (None, 62, 62, 32)        896       \n",
      "_________________________________________________________________\n",
      "max_pooling2d (MaxPooling2D) (None, 31, 31, 32)        0         \n",
      "_________________________________________________________________\n",
      "conv2d_1 (Conv2D)            (None, 28, 28, 64)        32832     \n",
      "_________________________________________________________________\n",
      "max_pooling2d_1 (MaxPooling2 (None, 14, 14, 64)        0         \n",
      "_________________________________________________________________\n",
      "conv2d_2 (Conv2D)            (None, 12, 12, 128)       73856     \n",
      "_________________________________________________________________\n",
      "max_pooling2d_2 (MaxPooling2 (None, 6, 6, 128)         0         \n",
      "_________________________________________________________________\n",
      "conv2d_3 (Conv2D)            (None, 4, 4, 256)         295168    \n",
      "_________________________________________________________________\n",
      "max_pooling2d_3 (MaxPooling2 (None, 2, 2, 256)         0         \n",
      "_________________________________________________________________\n",
      "flatten (Flatten)            (None, 1024)              0         \n",
      "_________________________________________________________________\n",
      "dense_4 (Dense)              (None, 64)                65600     \n",
      "_________________________________________________________________\n",
      "dense_5 (Dense)              (None, 1)                 65        \n",
      "=================================================================\n",
      "Total params: 468,417\n",
      "Trainable params: 468,417\n",
      "Non-trainable params: 0\n",
      "_________________________________________________________________\n"
     ]
    }
   ],
   "source": [
    "cnn_model.summary()"
   ]
  },
  {
   "cell_type": "code",
   "execution_count": 26,
   "id": "d57aa197",
   "metadata": {},
   "outputs": [
    {
     "name": "stdout",
     "output_type": "stream",
     "text": [
      "Model: \"sequential_2\"\n",
      "_________________________________________________________________\n",
      "Layer (type)                 Output Shape              Param #   \n",
      "=================================================================\n",
      "conv2d_4 (Conv2D)            (None, 62, 62, 32)        896       \n",
      "_________________________________________________________________\n",
      "max_pooling2d_4 (MaxPooling2 (None, 31, 31, 32)        0         \n",
      "_________________________________________________________________\n",
      "conv2d_5 (Conv2D)            (None, 28, 28, 64)        32832     \n",
      "_________________________________________________________________\n",
      "max_pooling2d_5 (MaxPooling2 (None, 14, 14, 64)        0         \n",
      "_________________________________________________________________\n",
      "conv2d_6 (Conv2D)            (None, 12, 12, 128)       73856     \n",
      "_________________________________________________________________\n",
      "max_pooling2d_6 (MaxPooling2 (None, 6, 6, 128)         0         \n",
      "_________________________________________________________________\n",
      "conv2d_7 (Conv2D)            (None, 4, 4, 256)         295168    \n",
      "_________________________________________________________________\n",
      "max_pooling2d_7 (MaxPooling2 (None, 2, 2, 256)         0         \n",
      "_________________________________________________________________\n",
      "flatten_1 (Flatten)          (None, 1024)              0         \n",
      "_________________________________________________________________\n",
      "dense_6 (Dense)              (None, 64)                65600     \n",
      "_________________________________________________________________\n",
      "dense_7 (Dense)              (None, 1)                 65        \n",
      "=================================================================\n",
      "Total params: 468,417\n",
      "Trainable params: 468,417\n",
      "Non-trainable params: 0\n",
      "_________________________________________________________________\n"
     ]
    }
   ],
   "source": [
    "aug.summary()"
   ]
  },
  {
   "cell_type": "code",
   "execution_count": 27,
   "id": "c8d290c5",
   "metadata": {},
   "outputs": [
    {
     "name": "stdout",
     "output_type": "stream",
     "text": [
      "Model: \"sequential\"\n",
      "_________________________________________________________________\n",
      "Layer (type)                 Output Shape              Param #   \n",
      "=================================================================\n",
      "dense (Dense)                (None, 150)               1843350   \n",
      "_________________________________________________________________\n",
      "dense_1 (Dense)              (None, 100)               15100     \n",
      "_________________________________________________________________\n",
      "dense_2 (Dense)              (None, 50)                5050      \n",
      "_________________________________________________________________\n",
      "dense_3 (Dense)              (None, 1)                 51        \n",
      "=================================================================\n",
      "Total params: 1,863,551\n",
      "Trainable params: 1,863,551\n",
      "Non-trainable params: 0\n",
      "_________________________________________________________________\n"
     ]
    }
   ],
   "source": [
    "model.summary()"
   ]
  },
  {
   "cell_type": "code",
   "execution_count": null,
   "id": "95151ae1",
   "metadata": {},
   "outputs": [],
   "source": []
  }
 ],
 "metadata": {
  "kernelspec": {
   "display_name": "spark-env",
   "language": "python",
   "name": "python3"
  },
  "language_info": {
   "codemirror_mode": {
    "name": "ipython",
    "version": 3
   },
   "file_extension": ".py",
   "mimetype": "text/x-python",
   "name": "python",
   "nbconvert_exporter": "python",
   "pygments_lexer": "ipython3",
   "version": "3.8.18"
  }
 },
 "nbformat": 4,
 "nbformat_minor": 5
}
