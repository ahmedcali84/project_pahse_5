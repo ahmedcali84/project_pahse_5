{
 "cells": [
  {
   "cell_type": "code",
   "execution_count": 1,
   "id": "a8baf6ab-3696-4066-8606-aa4a6071c1b4",
   "metadata": {},
   "outputs": [],
   "source": [
    "import numpy as np\n",
    "import matplotlib.pyplot as plt\n",
    "import os , shutil"
   ]
  },
  {
   "cell_type": "markdown",
   "id": "4303198b-8200-43a6-8439-eafc7992f332",
   "metadata": {},
   "source": [
    "##### Image Lenghts refer to `preparation.ipynb` in this directory Test folder contains images 190 images with fire and 190 images images with No fire.\n",
    "\r",
    "Train folder contains images 610 images with fire and 610 images images with No fire.\n",
    "eValidation folder contains images 150 images with fire and 150 images images with No fire. images"
   ]
  },
  {
   "cell_type": "code",
   "execution_count": 2,
   "id": "449117d5-81cb-46ba-84d2-9aa6c1c72246",
   "metadata": {},
   "outputs": [],
   "source": [
    "test_folder = os.path.join('data' , 'test')\n",
    "train_folder = os.path.join('data', 'train')\n",
    "val_folder = os.path.join('data','validation')\n"
   ]
  },
  {
   "cell_type": "code",
   "execution_count": 3,
   "id": "ddc1c6f8-f975-4605-9d2f-6daf6054eb6a",
   "metadata": {},
   "outputs": [],
   "source": [
    "import time\n",
    "import scipy\n",
    "from PIL import Image\n",
    "from scipy import ndimage\n",
    "from tensorflow.keras.preprocessing.image import ImageDataGenerator, array_to_img, img_to_array, load_img\n",
    "\n",
    "np.random.seed(123)"
   ]
  },
  {
   "cell_type": "code",
   "execution_count": null,
   "id": "81d3d2ad-6f44-4e21-ae86-596c35aeb731",
   "metadata": {},
   "outputs": [],
   "source": []
  }
 ],
 "metadata": {
  "kernelspec": {
   "display_name": "Python 3 (ipykernel)",
   "language": "python",
   "name": "python3"
  },
  "language_info": {
   "codemirror_mode": {
    "name": "ipython",
    "version": 3
   },
   "file_extension": ".py",
   "mimetype": "text/x-python",
   "name": "python",
   "nbconvert_exporter": "python",
   "pygments_lexer": "ipython3",
   "version": "3.8.18"
  }
 },
 "nbformat": 4,
 "nbformat_minor": 5
}
